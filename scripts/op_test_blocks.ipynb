{
 "cells": [
  {
   "cell_type": "markdown",
   "id": "0",
   "metadata": {},
   "source": [
    "## Setup"
   ]
  },
  {
   "cell_type": "code",
   "execution_count": null,
   "id": "1",
   "metadata": {},
   "outputs": [],
   "source": [
    "import os\n",
    "\n",
    "# importing scripting dependencies\n",
    "import boa\n",
    "from eth_account import Account"
   ]
  },
  {
   "cell_type": "code",
   "execution_count": null,
   "id": "2",
   "metadata": {},
   "outputs": [],
   "source": [
    "a = Account.create()\n",
    "print(a.address)\n",
    "print(a.key.hex())"
   ]
  },
  {
   "cell_type": "code",
   "execution_count": null,
   "id": "3",
   "metadata": {},
   "outputs": [],
   "source": [
    "from dotenv import load_dotenv\n",
    "\n",
    "load_dotenv()\n",
    "PRIVATE_KEY = os.environ.get(\"WEB3_TESTNET_PK\")\n",
    "RPC_URL = \"https://sepolia.optimism.io\"\n",
    "RPC_URL = \"https://sepolia.base.org\"\n",
    "RPC_URL = \"https://mainnet.optimism.io\""
   ]
  },
  {
   "cell_type": "markdown",
   "id": "4",
   "metadata": {},
   "source": [
    "## Select mode\n",
    "Production mode cell is intentionally executed first to avoid deploying things by accident. If one runs all the cells sequentially things will be executed in forking mode.\n",
    "\n",
    "To deploy in production mode, manually skip the execution of the fork mode cell."
   ]
  },
  {
   "cell_type": "code",
   "execution_count": null,
   "id": "5",
   "metadata": {},
   "outputs": [],
   "source": [
    "# production mode (to deploy on ethereum)\n",
    "deployer = Account.from_key(PRIVATE_KEY)\n",
    "eth_env = boa.set_network_env(RPC_URL)\n",
    "# boa.set_env(eth_env)\n",
    "\n",
    "# this automatically sets the eoa as the deployer\n",
    "boa.env.add_account(deployer)\n",
    "print(f\"Deploying with {deployer.address}\")"
   ]
  },
  {
   "cell_type": "markdown",
   "id": "6",
   "metadata": {},
   "source": [
    "# I. Deployment"
   ]
  },
  {
   "cell_type": "markdown",
   "id": "7",
   "metadata": {},
   "source": [
    "### 2. L1BlockStorage"
   ]
  },
  {
   "cell_type": "code",
   "execution_count": null,
   "id": "8",
   "metadata": {},
   "outputs": [],
   "source": [
    "# II. Then deploy the DepositLimitModule\n",
    "OPL1TestBlockStorage_deployer = boa.load_partial(\"../contracts/OPL1TestBlockStorage.vy\")\n",
    "\n",
    "deposit_limit = OPL1TestBlockStorage_deployer(\n",
    "    \"0x4200000000000000000000000000000000000015\",  # l1 block precompile\n",
    ")\n",
    "\n",
    "print(f\"Deposit limit module deployed at {deposit_limit.address}\")"
   ]
  },
  {
   "cell_type": "markdown",
   "id": "9",
   "metadata": {},
   "source": [
    "# II. Post-deployment spam"
   ]
  },
  {
   "cell_type": "code",
   "execution_count": null,
   "id": "10",
   "metadata": {},
   "outputs": [],
   "source": [
    "from web3 import Web3\n",
    "import os\n",
    "import time\n",
    "import logging\n",
    "from datetime import datetime\n",
    "\n",
    "# Configure logging\n",
    "log_filename = f\"op_monitor_{datetime.now().strftime('%Y%m%d_%H%M%S')}.log\"\n",
    "logging.basicConfig(\n",
    "    level=logging.INFO,\n",
    "    format=\"%(asctime)s - %(levelname)s - %(message)s\",\n",
    "    handlers=[logging.FileHandler(log_filename), logging.StreamHandler()],\n",
    ")\n",
    "\n",
    "# RPC endpoints\n",
    "NETWORKS = {\n",
    "    # 'optimism': 'https://sepolia.optimism.io',\n",
    "    # 'base': 'https://sepolia.base.org'\n",
    "    \"OP\": \"https://mainnet.optimism.io\"\n",
    "}\n",
    "\n",
    "CONTRACT_ADDRESS = \"0x25A9a298494dB90851633E4D74e660C996379Ecc\"\n",
    "\n",
    "try:\n",
    "    pk = os.environ[\"WEB3_TESTNET_PK\"]\n",
    "except KeyError:\n",
    "    raise EnvironmentError(\"Please set WEB3_TESTNET_PK environment variable\")\n",
    "\n",
    "ABI = \"\"\"[{\"name\":\"BlockMismatch\",\"inputs\":[{\"name\":\"block_number\",\"type\":\"uint64\",\"indexed\":false},{\"name\":\"stored_hash\",\"type\":\"bytes32\",\"indexed\":false},{\"name\":\"oracle_hash\",\"type\":\"bytes32\",\"indexed\":false},{\"name\":\"stored_timestamp\",\"type\":\"uint64\",\"indexed\":false},{\"name\":\"oracle_timestamp\",\"type\":\"uint64\",\"indexed\":false}],\"anonymous\":false,\"type\":\"event\"},{\"stateMutability\":\"nonpayable\",\"type\":\"function\",\"name\":\"fetch_latest_block\",\"inputs\":[],\"outputs\":[]},{\"stateMutability\":\"nonpayable\",\"type\":\"function\",\"name\":\"get_block_hash\",\"inputs\":[{\"name\":\"block_number\",\"type\":\"uint64\"}],\"outputs\":[{\"name\":\"\",\"type\":\"bytes32\"}]},{\"stateMutability\":\"nonpayable\",\"type\":\"function\",\"name\":\"get_block_timestamp\",\"inputs\":[{\"name\":\"block_number\",\"type\":\"uint64\"}],\"outputs\":[{\"name\":\"\",\"type\":\"uint64\"}]},{\"stateMutability\":\"view\",\"type\":\"function\",\"name\":\"peek_l1block_number\",\"inputs\":[],\"outputs\":[{\"name\":\"\",\"type\":\"uint64\"}]},{\"stateMutability\":\"view\",\"type\":\"function\",\"name\":\"l1_blocks\",\"inputs\":[{\"name\":\"arg0\",\"type\":\"uint64\"}],\"outputs\":[{\"name\":\"\",\"type\":\"tuple\",\"components\":[{\"name\":\"block_hash\",\"type\":\"bytes32\"},{\"name\":\"block_timestamp\",\"type\":\"uint64\"}]}]},{\"stateMutability\":\"view\",\"type\":\"function\",\"name\":\"last_fetched_block\",\"inputs\":[],\"outputs\":[{\"name\":\"\",\"type\":\"uint64\"}]},{\"stateMutability\":\"nonpayable\",\"type\":\"constructor\",\"inputs\":[{\"name\":\"l1block_precompile_address\",\"type\":\"address\"}],\"outputs\":[]}]\"\"\"\n",
    "\n",
    "\n",
    "def setup_web3_and_contracts():\n",
    "    networks = {}\n",
    "    for name, rpc in NETWORKS.items():\n",
    "        try:\n",
    "            w3 = Web3(Web3.HTTPProvider(rpc))\n",
    "            account = w3.eth.account.from_key(pk)\n",
    "            contract = w3.eth.contract(address=CONTRACT_ADDRESS, abi=ABI)\n",
    "            networks[name] = {\"w3\": w3, \"contract\": contract, \"account\": account}\n",
    "            logging.info(f\"Connected to {name}: {rpc}\")\n",
    "        except Exception as e:\n",
    "            logging.error(f\"Failed to connect to {name}: {e}\")\n",
    "    return networks\n",
    "\n",
    "\n",
    "def monitor_blocks(networks):\n",
    "    while True:\n",
    "        t0 = time.time()\n",
    "        for name, network in networks.items():\n",
    "            try:\n",
    "                func = network[\"contract\"].functions.fetch_latest_block()\n",
    "                tx = func.build_transaction(\n",
    "                    {\n",
    "                        \"from\": network[\"account\"].address,\n",
    "                        \"nonce\": network[\"w3\"].eth.get_transaction_count(\n",
    "                            network[\"account\"].address\n",
    "                        ),\n",
    "                    }\n",
    "                )\n",
    "                tx[\"gas\"] = int(5 * network[\"w3\"].eth.estimate_gas(tx))\n",
    "                signed_tx = network[\"w3\"].eth.account.sign_transaction(\n",
    "                    tx, private_key=network[\"account\"].key\n",
    "                )\n",
    "                tx_hash = network[\"w3\"].eth.send_raw_transaction(signed_tx.raw_transaction)\n",
    "\n",
    "                logging.info(f\"{name.upper()}: Tx: {tx_hash.hex()}\")\n",
    "\n",
    "            except Exception as e:\n",
    "                logging.error(f\"{name.upper()} Error: {str(e)}\")\n",
    "                continue\n",
    "\n",
    "        time.sleep(max(0, 5 - (time.time() - t0)))\n",
    "\n",
    "\n",
    "def main():\n",
    "    logging.info(\"Starting L1 Block Oracle monitoring\")\n",
    "    networks = setup_web3_and_contracts()\n",
    "\n",
    "    try:\n",
    "        monitor_blocks(networks)\n",
    "    except KeyboardInterrupt:\n",
    "        logging.info(\"Monitoring stopped by user\")\n",
    "    except Exception as e:\n",
    "        logging.error(f\"Unexpected error: {e}\")\n",
    "        raise\n",
    "\n",
    "\n",
    "if __name__ == \"__main__\":\n",
    "    main()"
   ]
  },
  {
   "cell_type": "markdown",
   "id": "11",
   "metadata": {},
   "source": [
    "## Validation of fetched blocks"
   ]
  },
  {
   "cell_type": "markdown",
   "id": "12",
   "metadata": {},
   "source": []
  },
  {
   "cell_type": "code",
   "execution_count": null,
   "id": "13",
   "metadata": {},
   "outputs": [],
   "source": [
    "# run scan_l1_blocks.py instead - its async and faster\n",
    "import os\n",
    "\n",
    "CONTRACT_ADDRESS = \"0x25A9a298494dB90851633E4D74e660C996379Ecc\"\n",
    "ABI = \"\"\"[{\"name\":\"BlockMismatch\",\"inputs\":[{\"name\":\"block_number\",\"type\":\"uint64\",\"indexed\":false},{\"name\":\"stored_hash\",\"type\":\"bytes32\",\"indexed\":false},{\"name\":\"oracle_hash\",\"type\":\"bytes32\",\"indexed\":false},{\"name\":\"stored_timestamp\",\"type\":\"uint64\",\"indexed\":false},{\"name\":\"oracle_timestamp\",\"type\":\"uint64\",\"indexed\":false}],\"anonymous\":false,\"type\":\"event\"},{\"stateMutability\":\"nonpayable\",\"type\":\"function\",\"name\":\"fetch_latest_block\",\"inputs\":[],\"outputs\":[]},{\"stateMutability\":\"nonpayable\",\"type\":\"function\",\"name\":\"get_block_hash\",\"inputs\":[{\"name\":\"block_number\",\"type\":\"uint64\"}],\"outputs\":[{\"name\":\"\",\"type\":\"bytes32\"}]},{\"stateMutability\":\"nonpayable\",\"type\":\"function\",\"name\":\"get_block_timestamp\",\"inputs\":[{\"name\":\"block_number\",\"type\":\"uint64\"}],\"outputs\":[{\"name\":\"\",\"type\":\"uint64\"}]},{\"stateMutability\":\"view\",\"type\":\"function\",\"name\":\"peek_l1block_number\",\"inputs\":[],\"outputs\":[{\"name\":\"\",\"type\":\"uint64\"}]},{\"stateMutability\":\"view\",\"type\":\"function\",\"name\":\"l1_blocks\",\"inputs\":[{\"name\":\"arg0\",\"type\":\"uint64\"}],\"outputs\":[{\"name\":\"\",\"type\":\"tuple\",\"components\":[{\"name\":\"block_hash\",\"type\":\"bytes32\"},{\"name\":\"block_timestamp\",\"type\":\"uint64\"}]}]},{\"stateMutability\":\"view\",\"type\":\"function\",\"name\":\"last_fetched_block\",\"inputs\":[],\"outputs\":[{\"name\":\"\",\"type\":\"uint64\"}]},{\"stateMutability\":\"nonpayable\",\"type\":\"constructor\",\"inputs\":[{\"name\":\"l1block_precompile_address\",\"type\":\"address\"}],\"outputs\":[]}]\"\"\"\n",
    "rpc_op = \"https://lb.drpc.org/ogrpc?network=optimism&dkey=\"\n",
    "w3_op = Web3(Web3.HTTPProvider(rpc_op))\n",
    "contract = w3_op.eth.contract(address=CONTRACT_ADDRESS, abi=ABI)\n",
    "rpc_eth = \"https://lb.drpc.org/ogrpc?network=ethereum&dkey=\"\n",
    "w3_eth = Web3(Web3.HTTPProvider(rpc_eth))\n",
    "\n",
    "start_scan = 21666325\n",
    "end_scan = 21671472\n",
    "\n",
    "for i in range(start_scan, end_scan):\n",
    "    blockhash, timestamp = contract.functions.l1_blocks(i).call()\n",
    "    block = w3_eth.eth.get_block(i)\n",
    "    if blockhash.hex() != block[\"hash\"].hex():\n",
    "        print(f\"Block {i} mismatch: {blockhash.hex()} vs {block['hash'].hex()}\")\n",
    "    if int(timestamp) != block[\"timestamp\"]:\n",
    "        print(f\"Timestamp mismatch: {timestamp} vs {block['timestamp']}\")\n",
    "    if i % 100 == 0:\n",
    "        print(f\"Scanned block {i - start_scan} of {end_scan - start_scan}\")"
   ]
  },
  {
   "cell_type": "code",
   "execution_count": null,
   "id": "14",
   "metadata": {},
   "outputs": [],
   "source": [
    "import json\n",
    "\n",
    "with open(\"scan_results.json\") as f:\n",
    "    results = json.load(f)\n",
    "null_hash = \"0000000000000000000000000000000000000000000000000000000000000000\"\n",
    "block_nums = [int(key) for key in results.keys()]\n",
    "block_nums.sort()\n",
    "longest_chain = 0\n",
    "for block in block_nums:\n",
    "    l1op = results[str(block)][\"l1_hash\"]\n",
    "    l1eth = results[str(block)][\"eth_hash\"]\n",
    "    if l1op != l1eth and l1op != null_hash:\n",
    "        print(f\"Block {block} mismatch: {l1op} vs {l1eth}\")\n",
    "    # if l1op == null_hash:\n",
    "    #     prev_l1 = results[str(block - 1)]['l1_hash']\n",
    "    #     if prev_l1 == null_hash:\n",
    "    #         print(f\"Block {block} two 0x0 blocks in a row\")\n",
    "    #         prev_l1 = results[str(block - 2)]['l1_hash']\n",
    "    #         if prev_l1 == null_hash:\n",
    "    #             print(f\"Block {block} three 0x0 blocks in a row\")\n",
    "    #             prev_l1 = results[str(block - 3)]['l1_hash']\n",
    "    #             if prev_l1 == null_hash:\n",
    "    #                 print(f\"Block {block} four 0x0 blocks in a row\")\n",
    "    #                 prev_l1 = results[str(block - 4)]['l1_hash']\n",
    "    #                 if prev_l1 == null_hash:\n",
    "    #                     print(f\"Block {block} five 0x0 blocks in a row\")"
   ]
  },
  {
   "cell_type": "code",
   "execution_count": null,
   "id": "15",
   "metadata": {},
   "outputs": [],
   "source": [
    "# run scan_l1_blocks.py instead - its async and faster\n",
    "import os\n",
    "from web3 import Web3\n",
    "\n",
    "CONTRACT_ADDRESS = \"0x25A9a298494dB90851633E4D74e660C996379Ecc\"\n",
    "ABI = \"\"\"[{\"name\":\"BlockMismatch\",\"inputs\":[{\"name\":\"block_number\",\"type\":\"uint64\",\"indexed\":false},{\"name\":\"stored_hash\",\"type\":\"bytes32\",\"indexed\":false},{\"name\":\"oracle_hash\",\"type\":\"bytes32\",\"indexed\":false},{\"name\":\"stored_timestamp\",\"type\":\"uint64\",\"indexed\":false},{\"name\":\"oracle_timestamp\",\"type\":\"uint64\",\"indexed\":false}],\"anonymous\":false,\"type\":\"event\"},{\"stateMutability\":\"nonpayable\",\"type\":\"function\",\"name\":\"fetch_latest_block\",\"inputs\":[],\"outputs\":[]},{\"stateMutability\":\"nonpayable\",\"type\":\"function\",\"name\":\"get_block_hash\",\"inputs\":[{\"name\":\"block_number\",\"type\":\"uint64\"}],\"outputs\":[{\"name\":\"\",\"type\":\"bytes32\"}]},{\"stateMutability\":\"nonpayable\",\"type\":\"function\",\"name\":\"get_block_timestamp\",\"inputs\":[{\"name\":\"block_number\",\"type\":\"uint64\"}],\"outputs\":[{\"name\":\"\",\"type\":\"uint64\"}]},{\"stateMutability\":\"view\",\"type\":\"function\",\"name\":\"peek_l1block_number\",\"inputs\":[],\"outputs\":[{\"name\":\"\",\"type\":\"uint64\"}]},{\"stateMutability\":\"view\",\"type\":\"function\",\"name\":\"l1_blocks\",\"inputs\":[{\"name\":\"arg0\",\"type\":\"uint64\"}],\"outputs\":[{\"name\":\"\",\"type\":\"tuple\",\"components\":[{\"name\":\"block_hash\",\"type\":\"bytes32\"},{\"name\":\"block_timestamp\",\"type\":\"uint64\"}]}]},{\"stateMutability\":\"view\",\"type\":\"function\",\"name\":\"last_fetched_block\",\"inputs\":[],\"outputs\":[{\"name\":\"\",\"type\":\"uint64\"}]},{\"stateMutability\":\"nonpayable\",\"type\":\"constructor\",\"inputs\":[{\"name\":\"l1block_precompile_address\",\"type\":\"address\"}],\"outputs\":[]}]\"\"\"\n",
    "rpc_op = (\n",
    "    \"https://lb.drpc.org/ogrpc?network=optimism&dkey=AohYxdoKok53iRKt2O9xAcVem4kouJsR76KEuivZK8k9\"\n",
    ")\n",
    "w3_op = Web3(Web3.HTTPProvider(rpc_op))\n",
    "contract = w3_op.eth.contract(address=CONTRACT_ADDRESS, abi=ABI)\n",
    "rpc_eth = (\n",
    "    \"https://lb.drpc.org/ogrpc?network=ethereum&dkey=AohYxdoKok53iRKt2O9xAcVem4kouJsR76KEuivZK8k9\"\n",
    ")\n",
    "w3_eth = Web3(Web3.HTTPProvider(rpc_eth))\n",
    "\n",
    "start_scan = 21666325\n",
    "end_scan = 21671472\n",
    "\n",
    "while True:\n",
    "    l1num = contract.functions.peek_l1block_number.call()\n",
    "    block = w3_eth.eth.get_block(\"latest\")\n",
    "    print(block[\"number\"], l1num, block[\"number\"] - l1num)\n",
    "    time.sleep(1)\n",
    "    # if blockhash.hex() != block[\"hash\"].hex():\n",
    "    #     print(f\"Block {i} mismatch: {blockhash.hex()} vs {block['hash'].hex()}\")\n",
    "    # if int(timestamp) != block[\"timestamp\"]:\n",
    "    #     print(f\"Timestamp mismatch: {timestamp} vs {block['timestamp']}\")\n",
    "    # if i % 100 == 0:\n",
    "    #     print(f\"Scanned block {i - start_scan} of {end_scan - start_scan}\")"
   ]
  },
  {
   "cell_type": "code",
   "execution_count": null,
   "id": "16",
   "metadata": {},
   "outputs": [],
   "source": []
  }
 ],
 "metadata": {
  "kernelspec": {
   "display_name": ".venv",
   "language": "python",
   "name": "python3"
  },
  "language_info": {
   "codemirror_mode": {
    "name": "ipython",
    "version": 3
   },
   "file_extension": ".py",
   "mimetype": "text/x-python",
   "name": "python",
   "nbconvert_exporter": "python",
   "pygments_lexer": "ipython3",
   "version": "3.12.6"
  }
 },
 "nbformat": 4,
 "nbformat_minor": 5
}
