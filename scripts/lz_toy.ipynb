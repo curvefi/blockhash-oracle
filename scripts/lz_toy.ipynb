{
 "cells": [
  {
   "cell_type": "markdown",
   "id": "0",
   "metadata": {},
   "source": [
    "## Setup"
   ]
  },
  {
   "cell_type": "code",
   "execution_count": null,
   "id": "1",
   "metadata": {},
   "outputs": [],
   "source": [
    "import os\n",
    "\n",
    "# importing scripting dependencies\n",
    "import boa\n",
    "from eth_account import Account"
   ]
  },
  {
   "cell_type": "code",
   "execution_count": null,
   "id": "2",
   "metadata": {},
   "outputs": [],
   "source": [
    "from dotenv import load_dotenv\n",
    "\n",
    "load_dotenv()\n",
    "PRIVATE_KEY = os.environ.get(\"WEB3_TESTNET_PK\")\n",
    "# RPC_URL = \"https://sepolia.optimism.io\"\n",
    "RPC_URL = \"https://sepolia.base.org\"\n",
    "# RPC_URL = \"https://mainnet.optimism.io\""
   ]
  },
  {
   "cell_type": "markdown",
   "id": "3",
   "metadata": {},
   "source": [
    "## Select mode\n",
    "Production mode cell is intentionally executed first to avoid deploying things by accident. If one runs all the cells sequentially things will be executed in forking mode.\n",
    "\n",
    "To deploy in production mode, manually skip the execution of the fork mode cell."
   ]
  },
  {
   "cell_type": "code",
   "execution_count": null,
   "id": "4",
   "metadata": {},
   "outputs": [],
   "source": [
    "# production mode (to deploy on ethereum)\n",
    "deployer = Account.from_key(PRIVATE_KEY)\n",
    "eth_env = boa.set_network_env(RPC_URL)\n",
    "# boa.set_env(eth_env)\n",
    "\n",
    "# this automatically sets the eoa as the deployer\n",
    "boa.env.add_account(deployer)\n",
    "print(f\"Deploying with {deployer.address}\")"
   ]
  },
  {
   "cell_type": "markdown",
   "id": "5",
   "metadata": {},
   "source": [
    "# I. Deployment"
   ]
  },
  {
   "cell_type": "markdown",
   "id": "6",
   "metadata": {},
   "source": [
    "### 2. LZContract"
   ]
  },
  {
   "cell_type": "code",
   "execution_count": null,
   "id": "7",
   "metadata": {},
   "outputs": [],
   "source": [
    "# II. Then deploy the DepositLimitModule\n",
    "contract_deployer = boa.load_partial(\"../contracts/LZContract.vy\")\n",
    "\n",
    "deposit_limit = contract_deployer(\n",
    "    \"0x4200000000000000000000000000000000000015\",  # l1 block precompile\n",
    ")\n",
    "\n",
    "print(f\"Deposit limit module deployed at {deposit_limit.address}\")"
   ]
  },
  {
   "cell_type": "markdown",
   "id": "8",
   "metadata": {},
   "source": [
    "# II. Post-deployment spam"
   ]
  },
  {
   "cell_type": "code",
   "execution_count": null,
   "id": "9",
   "metadata": {},
   "outputs": [],
   "source": [
    "from web3 import Web3\n",
    "import os\n",
    "import time\n",
    "import logging\n",
    "from datetime import datetime\n",
    "\n",
    "# Configure logging\n",
    "log_filename = f\"op_monitor_{datetime.now().strftime('%Y%m%d_%H%M%S')}.log\"\n",
    "logging.basicConfig(\n",
    "    level=logging.INFO,\n",
    "    format=\"%(asctime)s - %(levelname)s - %(message)s\",\n",
    "    handlers=[logging.FileHandler(log_filename), logging.StreamHandler()],\n",
    ")\n",
    "\n",
    "# RPC endpoints\n",
    "NETWORKS = {\n",
    "    # 'optimism': 'https://sepolia.optimism.io',\n",
    "    # 'base': 'https://sepolia.base.org'\n",
    "    \"OP\": \"https://mainnet.optimism.io\"\n",
    "}\n",
    "\n",
    "CONTRACT_ADDRESS = \"0x25A9a298494dB90851633E4D74e660C996379Ecc\"\n",
    "\n",
    "try:\n",
    "    pk = os.environ[\"WEB3_TESTNET_PK\"]\n",
    "except KeyError:\n",
    "    raise EnvironmentError(\"Please set WEB3_TESTNET_PK environment variable\")\n",
    "\n",
    "ABI = \"\"\"[{\"name\":\"BlockMismatch\",\"inputs\":[{\"name\":\"block_number\",\"type\":\"uint64\",\"indexed\":false},{\"name\":\"stored_hash\",\"type\":\"bytes32\",\"indexed\":false},{\"name\":\"oracle_hash\",\"type\":\"bytes32\",\"indexed\":false},{\"name\":\"stored_timestamp\",\"type\":\"uint64\",\"indexed\":false},{\"name\":\"oracle_timestamp\",\"type\":\"uint64\",\"indexed\":false}],\"anonymous\":false,\"type\":\"event\"},{\"stateMutability\":\"nonpayable\",\"type\":\"function\",\"name\":\"fetch_latest_block\",\"inputs\":[],\"outputs\":[]},{\"stateMutability\":\"nonpayable\",\"type\":\"function\",\"name\":\"get_block_hash\",\"inputs\":[{\"name\":\"block_number\",\"type\":\"uint64\"}],\"outputs\":[{\"name\":\"\",\"type\":\"bytes32\"}]},{\"stateMutability\":\"nonpayable\",\"type\":\"function\",\"name\":\"get_block_timestamp\",\"inputs\":[{\"name\":\"block_number\",\"type\":\"uint64\"}],\"outputs\":[{\"name\":\"\",\"type\":\"uint64\"}]},{\"stateMutability\":\"view\",\"type\":\"function\",\"name\":\"peek_l1block_number\",\"inputs\":[],\"outputs\":[{\"name\":\"\",\"type\":\"uint64\"}]},{\"stateMutability\":\"view\",\"type\":\"function\",\"name\":\"l1_blocks\",\"inputs\":[{\"name\":\"arg0\",\"type\":\"uint64\"}],\"outputs\":[{\"name\":\"\",\"type\":\"tuple\",\"components\":[{\"name\":\"block_hash\",\"type\":\"bytes32\"},{\"name\":\"block_timestamp\",\"type\":\"uint64\"}]}]},{\"stateMutability\":\"view\",\"type\":\"function\",\"name\":\"last_fetched_block\",\"inputs\":[],\"outputs\":[{\"name\":\"\",\"type\":\"uint64\"}]},{\"stateMutability\":\"nonpayable\",\"type\":\"constructor\",\"inputs\":[{\"name\":\"l1block_precompile_address\",\"type\":\"address\"}],\"outputs\":[]}]\"\"\"\n",
    "\n",
    "\n",
    "def setup_web3_and_contracts():\n",
    "    networks = {}\n",
    "    for name, rpc in NETWORKS.items():\n",
    "        try:\n",
    "            w3 = Web3(Web3.HTTPProvider(rpc))\n",
    "            account = w3.eth.account.from_key(pk)\n",
    "            contract = w3.eth.contract(address=CONTRACT_ADDRESS, abi=ABI)\n",
    "            networks[name] = {\"w3\": w3, \"contract\": contract, \"account\": account}\n",
    "            logging.info(f\"Connected to {name}: {rpc}\")\n",
    "        except Exception as e:\n",
    "            logging.error(f\"Failed to connect to {name}: {e}\")\n",
    "    return networks\n",
    "\n",
    "\n",
    "def monitor_blocks(networks):\n",
    "    while True:\n",
    "        t0 = time.time()\n",
    "        for name, network in networks.items():\n",
    "            try:\n",
    "                func = network[\"contract\"].functions.fetch_latest_block()\n",
    "                tx = func.build_transaction(\n",
    "                    {\n",
    "                        \"from\": network[\"account\"].address,\n",
    "                        \"nonce\": network[\"w3\"].eth.get_transaction_count(\n",
    "                            network[\"account\"].address\n",
    "                        ),\n",
    "                    }\n",
    "                )\n",
    "                tx[\"gas\"] = int(5 * network[\"w3\"].eth.estimate_gas(tx))\n",
    "                signed_tx = network[\"w3\"].eth.account.sign_transaction(\n",
    "                    tx, private_key=network[\"account\"].key\n",
    "                )\n",
    "                tx_hash = network[\"w3\"].eth.send_raw_transaction(signed_tx.raw_transaction)\n",
    "\n",
    "                logging.info(f\"{name.upper()}: Tx: {tx_hash.hex()}\")\n",
    "\n",
    "            except Exception as e:\n",
    "                logging.error(f\"{name.upper()} Error: {str(e)}\")\n",
    "                continue\n",
    "\n",
    "        time.sleep(max(0, 5 - (time.time() - t0)))\n",
    "\n",
    "\n",
    "def main():\n",
    "    logging.info(\"Starting L1 Block Oracle monitoring\")\n",
    "    networks = setup_web3_and_contracts()\n",
    "\n",
    "    try:\n",
    "        monitor_blocks(networks)\n",
    "    except KeyboardInterrupt:\n",
    "        logging.info(\"Monitoring stopped by user\")\n",
    "    except Exception as e:\n",
    "        logging.error(f\"Unexpected error: {e}\")\n",
    "        raise\n",
    "\n",
    "\n",
    "if __name__ == \"__main__\":\n",
    "    main()"
   ]
  }
 ],
 "metadata": {
  "kernelspec": {
   "display_name": ".venv",
   "language": "python",
   "name": "python3"
  },
  "language_info": {
   "codemirror_mode": {
    "name": "ipython",
    "version": 3
   },
   "file_extension": ".py",
   "mimetype": "text/x-python",
   "name": "python",
   "nbconvert_exporter": "python",
   "pygments_lexer": "ipython3",
   "version": "3.12.6"
  }
 },
 "nbformat": 4,
 "nbformat_minor": 5
}
