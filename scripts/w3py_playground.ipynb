{
 "cells": [
  {
   "cell_type": "code",
   "execution_count": null,
   "id": "0",
   "metadata": {},
   "outputs": [],
   "source": [
    "import boa\n",
    "\n",
    "contract_code = \"\"\"\n",
    "@external\n",
    "@view\n",
    "def foo():\n",
    "    val_1: uint128 = 123\n",
    "    val_2: uint128 = 0\n",
    "    val1_b16: bytes16 = convert(1, bytes16)\n",
    "    val2_b16: bytes16 = convert(2, bytes16)\n",
    "    # val_b32: bytes32 = convert(val_uint, bytes32)\n",
    "    # a16: Bytes[16] = empty(Bytes[16])\n",
    "    # a32: Bytes[32] = empty(Bytes[32])\n",
    "    val_B32: Bytes[32] = concat(val1_b16, empty(bytes16))\n",
    "    # # a1: bytes16 = convert(1, bytes16)\n",
    "    b: Bytes[17] = b'broadcast_request'\n",
    "    print(b)\n",
    "\"\"\"\n",
    "with boa.swap_env(boa.Env()):\n",
    "    tmp_contract = boa.loads(contract_code)\n",
    "\n",
    "    res = tmp_contract.foo()\n",
    "    # print(res)"
   ]
  },
  {
   "cell_type": "code",
   "execution_count": null,
   "id": "1",
   "metadata": {},
   "outputs": [],
   "source": []
  }
 ],
 "metadata": {
  "kernelspec": {
   "display_name": ".venv",
   "language": "python",
   "name": "python3"
  },
  "language_info": {
   "codemirror_mode": {
    "name": "ipython",
    "version": 3
   },
   "file_extension": ".py",
   "mimetype": "text/x-python",
   "name": "python",
   "nbconvert_exporter": "python",
   "pygments_lexer": "ipython3",
   "version": "3.12.6"
  }
 },
 "nbformat": 4,
 "nbformat_minor": 5
}
