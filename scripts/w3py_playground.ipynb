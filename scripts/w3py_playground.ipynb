{
 "cells": [
  {
   "cell_type": "code",
   "execution_count": null,
   "id": "0",
   "metadata": {},
   "outputs": [],
   "source": [
    "import boa\n",
    "\n",
    "contract_code = \"\"\"\n",
    "@external\n",
    "@view\n",
    "def foo():\n",
    "    val_1: uint128 = 123\n",
    "    val_2: uint128 = 0\n",
    "    val1_b16: bytes16 = convert(1, bytes16)\n",
    "    val2_b16: bytes16 = convert(2, bytes16)\n",
    "    # val_b32: bytes32 = convert(val_uint, bytes32)\n",
    "    # a16: Bytes[16] = empty(Bytes[16])\n",
    "    # a32: Bytes[32] = empty(Bytes[32])\n",
    "    val_B32: Bytes[32] = concat(val1_b16, empty(bytes16))\n",
    "    # # a1: bytes16 = convert(1, bytes16)\n",
    "    b: Bytes[17] = b'broadcast_request'\n",
    "    print(b)\n",
    "\"\"\"\n",
    "with boa.swap_env(boa.Env()):\n",
    "    tmp_contract = boa.loads(contract_code)\n",
    "\n",
    "    res = tmp_contract.foo()\n",
    "    # print(res)"
   ]
  },
  {
   "cell_type": "code",
   "execution_count": null,
   "id": "1",
   "metadata": {},
   "outputs": [],
   "source": [
    "import boa\n",
    "\n",
    "contract_code = \"\"\"\n",
    "@external\n",
    "@view\n",
    "def foo():\n",
    "    b: bool = convert(0, bytes32) == convert(empty(address), bytes32)\n",
    "    print(\"result:\", b)\n",
    "\"\"\"\n",
    "with boa.swap_env(boa.Env()):\n",
    "    tmp_contract = boa.loads(contract_code)\n",
    "\n",
    "    res = tmp_contract.foo()\n",
    "    # print(res)"
   ]
  },
  {
   "cell_type": "code",
   "execution_count": null,
   "id": "2",
   "metadata": {},
   "outputs": [],
   "source": [
    "import boa\n",
    "\n",
    "contract_code = \"\"\"\n",
    "@external\n",
    "@view\n",
    "def foo():\n",
    "    CMD_VERSION: uint16 = 1\n",
    "    ALL_CMD_LABEL: uint16 = 1\n",
    "    cmd: Bytes[512] = concat(convert(CMD_VERSION, bytes2), convert(ALL_CMD_LABEL, bytes2))\n",
    "    print(\"cmd:\", cmd)\n",
    "    print(\"slice(cmd):\", slice(cmd,0,2))\n",
    "    print(\"abi_encode(slice(cmd)):\", abi_encode(slice(cmd,0,2)))\n",
    "    print(\"abi_encode(CMD_VERSION):\", abi_encode(CMD_VERSION))\n",
    "\"\"\"\n",
    "with boa.swap_env(boa.Env()):\n",
    "    tmp_contract = boa.loads(contract_code)\n",
    "    tmp_contract.foo()"
   ]
  },
  {
   "cell_type": "code",
   "execution_count": null,
   "id": "3",
   "metadata": {},
   "outputs": [],
   "source": [
    "import boa\n",
    "\n",
    "\n",
    "def address_to_bytes32(address: str):\n",
    "    address_bytes = bytes.fromhex(address[2:]).rjust(32, b\"\\0\")\n",
    "    return address_bytes\n",
    "\n",
    "\n",
    "contract_code = \"\"\"\n",
    "@external\n",
    "@view\n",
    "def foo(x: bytes32):\n",
    "    print(x)\n",
    "    print(convert(self, bytes32))\n",
    "\"\"\"\n",
    "with boa.swap_env(boa.Env()):\n",
    "    tmp_contract = boa.loads(contract_code)\n",
    "    input_bytes = address_to_bytes32(\"0xd8dA6BF26964aF9D7eEd9e03E53415D37aA96045\")\n",
    "    # print(input_bytes)\n",
    "    res = tmp_contract.foo(input_bytes)\n",
    "    # print(res)"
   ]
  },
  {
   "cell_type": "code",
   "execution_count": null,
   "id": "4",
   "metadata": {},
   "outputs": [],
   "source": [
    "from web3 import Web3\n",
    "import time\n",
    "\n",
    "url = \"https://lb.drpc.org/ogrpc?network=ethereum&dkey=AohYxdoKok53iRKt2O9xAcVOR6FEf6sR7aqHAkKsEQAD\"\n",
    "w3 = Web3(Web3.HTTPProvider(url))\n",
    "while True:\n",
    "    print(w3.eth.get_block_number())\n",
    "    time.sleep(1)"
   ]
  },
  {
   "cell_type": "code",
   "execution_count": null,
   "id": "5",
   "metadata": {},
   "outputs": [],
   "source": []
  }
 ],
 "metadata": {
  "kernelspec": {
   "display_name": ".venv",
   "language": "python",
   "name": "python3"
  },
  "language_info": {
   "codemirror_mode": {
    "name": "ipython",
    "version": 3
   },
   "file_extension": ".py",
   "mimetype": "text/x-python",
   "name": "python",
   "nbconvert_exporter": "python",
   "pygments_lexer": "ipython3",
   "version": "3.12.6"
  }
 },
 "nbformat": 4,
 "nbformat_minor": 5
}
