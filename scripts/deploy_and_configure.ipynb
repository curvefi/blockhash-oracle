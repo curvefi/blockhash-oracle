{
 "cells": [
  {
   "cell_type": "markdown",
   "id": "0",
   "metadata": {},
   "source": [
    "# 1. Initialization"
   ]
  },
  {
   "cell_type": "markdown",
   "id": "1",
   "metadata": {},
   "source": [
    "### i) Configure RPCs & deployer"
   ]
  },
  {
   "cell_type": "code",
   "execution_count": null,
   "id": "2",
   "metadata": {},
   "outputs": [],
   "source": [
    "from dotenv import load_dotenv\n",
    "import os\n",
    "import boa\n",
    "from eth_account import Account\n",
    "from web3 import Web3\n",
    "import logging\n",
    "import subprocess\n",
    "import time\n",
    "\n",
    "from ABIs import createX_abi, lzreadlib_abi\n",
    "\n",
    "# logging.basicConfig(filename=\"deploy.log\", filemode='a', level=logging.INFO, format=\"%(asctime)s -  %(levelname)s - %(message)s\")\n",
    "logging.basicConfig(level=logging.INFO, format=\"%(asctime)s -  %(levelname)s - %(message)s\")\n",
    "\n",
    "load_dotenv()\n",
    "main_chain = \"sepolia\"\n",
    "\n",
    "PRIVATE_KEY = os.environ.get(\"WEB3_TESTNET_PK\")\n",
    "\n",
    "RPCs = {\n",
    "    \"sepolia\": \"https://eth-sepolia.public.blastapi.io\",\n",
    "    \"base-sepolia\": \"https://sepolia.base.org\",\n",
    "    \"optimism-sepolia\": \"https://sepolia.optimism.io\",\n",
    "    # \"arbitrum-sepolia\": \"https://sepolia-rollup.arbitrum.io/rpc\",\n",
    "}\n",
    "\n",
    "createX_address = \"0xba5Ed099633D3B313e4D5F7bdc1305d3c28ba5Ed\"\n",
    "\n",
    "state_dict = {}\n",
    "\n",
    "deployer = Account.from_key(PRIVATE_KEY)\n",
    "\n",
    "for key in RPCs.keys():\n",
    "    state_dict[key] = {}\n",
    "    state_dict[key][\"rpc\"] = RPCs[key]\n",
    "    boa.set_network_env(RPCs[key])\n",
    "    boa.env.add_account(deployer)\n",
    "    state_dict[key][\"boa\"] = boa.env  # oops\n",
    "    state_dict[key][\"w3\"] = Web3(Web3.HTTPProvider(RPCs[key]))\n",
    "    state_dict[key][\"createx\"] = boa.loads_abi(createX_abi).at(createX_address)\n",
    "\n",
    "for key in state_dict.keys():\n",
    "    with boa.swap_env(state_dict[key][\"boa\"]):\n",
    "        logging.info(f\"Working with {boa.env.eoa} on {key}, id {boa.env.evm.patch.chain_id}\")\n",
    "        logging.info(\n",
    "            f\"Chain balance is {state_dict[key]['w3'].eth.get_balance(boa.env.eoa)/1e18 :.3f} ETH\"\n",
    "        )\n",
    "        logging.info(f\"CreateX test: {state_dict[key]['createx'].computeCreate2Address(b'',b'')}\")"
   ]
  },
  {
   "cell_type": "markdown",
   "id": "3",
   "metadata": {},
   "source": [
    "### ii) Parse LZ deployments data (libs and endpoints)"
   ]
  },
  {
   "cell_type": "code",
   "execution_count": null,
   "id": "4",
   "metadata": {},
   "outputs": [],
   "source": [
    "from LZDeployments import LZDeployments\n",
    "\n",
    "lz = LZDeployments()\n",
    "for chain in state_dict:\n",
    "    metadata = lz.get_chain_metadata(chain)[\"metadata\"]\n",
    "    dvn_data = lz.get_chain_metadata(chain)\n",
    "\n",
    "    # Update state dict\n",
    "    state_dict[chain].update(\n",
    "        {\n",
    "            \"eid\": metadata[\"eid\"],\n",
    "            \"endpoint\": metadata[\"endpointV2\"],\n",
    "            \"send_lib\": metadata.get(\"sendUln302\", \"unavailable\"),\n",
    "            \"receive_lib\": metadata.get(\"receiveUln302\", \"unavailable\"),\n",
    "            \"read_lib\": metadata.get(\"readLib1002\", \"unavailable\"),\n",
    "            \"dvns\": dvn_data[\"dvns\"],\n",
    "        }\n",
    "    )\n",
    "\n",
    "    # Print info\n",
    "    logging.info(f\"LZ details for {chain}:\")\n",
    "    logging.info(f\"Chain eID: {metadata['eid']}\\nEndpoint address: {metadata['endpointV2']}\")\n",
    "    logging.info(f\"DVNs: {len(dvn_data['dvns'])}, Read DVNs: {len(dvn_data['dvns_lzread'])}\")\n",
    "    logging.info(\n",
    "        f\"Send lib: {state_dict[chain]['send_lib']}\\n\"\n",
    "        f\"Receive lib: {state_dict[chain]['receive_lib']}\\n\"\n",
    "        f\"Read lib: {state_dict[chain]['read_lib']}\\n---\"\n",
    "    )"
   ]
  },
  {
   "cell_type": "markdown",
   "id": "5",
   "metadata": {},
   "source": [
    "# 2. Contracts deployment"
   ]
  },
  {
   "cell_type": "markdown",
   "id": "6",
   "metadata": {},
   "source": [
    "### i) Deploy main view contract and block oracles "
   ]
  },
  {
   "cell_type": "code",
   "execution_count": null,
   "id": "7",
   "metadata": {},
   "outputs": [],
   "source": [
    "# On mainnet viewer will tell us ground truth block data\n",
    "# On other chains block oracles are consensus of various messengers (LZ in this script)\n",
    "random_bytes = os.urandom(11)\n",
    "for key in state_dict.keys():\n",
    "    with boa.swap_env(state_dict[key][\"boa\"]):\n",
    "        if key == main_chain:\n",
    "            # deploying view contract on mainnet\n",
    "            contract_deployer = boa.load_partial(\"../contracts/MainnetBlockView.vy\")\n",
    "            contract = contract_deployer()\n",
    "            logging.info(f\"Block view deployed at {contract.address} on {key}\")\n",
    "            state_dict[key][\"oracle\"] = contract\n",
    "        else:\n",
    "            # deploying block oracle on other chains\n",
    "            contract_deployer = boa.load_partial(\"../contracts/BlockOracle.vy\")\n",
    "            bytecode = contract_deployer.compiler_data.bytecode\n",
    "            args = boa.util.abi.abi_encode(\"(uint256,address)\", (1, boa.env.eoa))\n",
    "            deploycode = bytecode + args\n",
    "            guard_bytes = bytes.fromhex(boa.env.eoa[2:] + \"00\")\n",
    "            salt = guard_bytes + random_bytes\n",
    "            address = state_dict[key][\"createx\"].deployCreate2(salt, deploycode)\n",
    "            # contract = contract_deployer(1)  # commit threshold\n",
    "            logging.info(f\"Block oracle deployed at {address} on {key}\")\n",
    "            state_dict[key][\"oracle\"] = contract_deployer.at(address)"
   ]
  },
  {
   "cell_type": "markdown",
   "id": "8",
   "metadata": {},
   "source": [
    "### ii) Deploy block relay contracts"
   ]
  },
  {
   "cell_type": "code",
   "execution_count": null,
   "id": "9",
   "metadata": {},
   "outputs": [],
   "source": [
    "# Deploy LZBlockRelay on each chain\n",
    "# This contract is used to send and receive messages via LZ, including LZRead and chained broadcasting\n",
    "random_bytes = os.urandom(11)\n",
    "for key in state_dict:\n",
    "    if key == main_chain:\n",
    "        continue\n",
    "    with boa.swap_env(state_dict[key][\"boa\"]):\n",
    "        contract_deployer = boa.load_partial(\"../contracts/messengers/LZBlockRelay.vy\")\n",
    "        bytecode = contract_deployer.compiler_data.bytecode\n",
    "        args = boa.util.abi.abi_encode(\"(address)\", (boa.env.eoa,))\n",
    "        deploycode = bytecode + args\n",
    "        guard_bytes = bytes.fromhex(boa.env.eoa[2:] + \"00\")\n",
    "        salt = guard_bytes + random_bytes\n",
    "        address = state_dict[key][\"createx\"].deployCreate2(salt, deploycode)\n",
    "        contract = contract_deployer.at(address)\n",
    "        # contract = contract_deployer(\n",
    "        #     state_dict[key][\"endpoint\"],  # endpoint on the chain\n",
    "        #     300_000,  # default gas limit\n",
    "        #     read_channel,  # read channel\n",
    "        # )\n",
    "        print(f\"LZ Messenger deployed at {contract.address} on {key}\")\n",
    "        state_dict[key][\"block_relay\"] = contract"
   ]
  },
  {
   "cell_type": "markdown",
   "id": "10",
   "metadata": {},
   "source": [
    "# 3. Contracts configuration"
   ]
  },
  {
   "cell_type": "markdown",
   "id": "11",
   "metadata": {},
   "source": [
    "## i) Oracles configuration"
   ]
  },
  {
   "cell_type": "code",
   "execution_count": null,
   "id": "12",
   "metadata": {},
   "outputs": [],
   "source": [
    "for key in state_dict.keys():\n",
    "    if key == main_chain:\n",
    "        continue\n",
    "    relay_contract = state_dict[key][\"block_relay\"]\n",
    "\n",
    "    # initialize block relay\n",
    "    read_channel = 4294967295 if not state_dict[key][\"read_lib\"] == \"unavailable\" else 0\n",
    "    endpoint = state_dict[key][\"endpoint\"]\n",
    "    default_gas_limit = 300_000\n",
    "    relay_contract.initialize(\n",
    "        state_dict[key][\"endpoint\"],  # endpoint on the chain\n",
    "        default_gas_limit,  # default gas limit\n",
    "        read_channel,  # read channel\n",
    "        [],\n",
    "        [],  # empty arrays at init (can optimzie and pass many)\n",
    "    )\n",
    "\n",
    "    # add block oracles everywhere\n",
    "    if relay_contract.block_oracle() == state_dict[key][\"oracle\"].address:\n",
    "        logging.info(f\"Skipping {key} - already set\")\n",
    "    else:\n",
    "        relay_contract.set_block_oracle(state_dict[key][\"oracle\"].address)\n",
    "        logging.info(f\"Set block oracle tx on {key}\")\n",
    "\n",
    "    # now add relay as committer to block oracle\n",
    "    oracle_contract = state_dict[key][\"oracle\"]\n",
    "    if oracle_contract.is_committer(relay_contract.address):\n",
    "        logging.info(f\"Skipping {key} - already a committer\")\n",
    "    else:\n",
    "        oracle_contract.add_committer(relay_contract.address)\n",
    "        logging.info(f\"Add committer tx on {key}\")\n",
    "\n",
    "    # add mainnet view contract on read chains (as read source)\n",
    "    if state_dict[key][\"read_lib\"] != \"unavailable\":\n",
    "        contract = state_dict[key][\"block_relay\"]\n",
    "        contract.set_read_config(\n",
    "            True, state_dict[main_chain][\"eid\"], state_dict[main_chain][\"oracle\"].address\n",
    "        )\n",
    "        logging.info(f\"Set read config on {key}\")"
   ]
  },
  {
   "cell_type": "markdown",
   "id": "13",
   "metadata": {},
   "source": [
    "## ii) LZ Configuration"
   ]
  },
  {
   "cell_type": "markdown",
   "id": "14",
   "metadata": {},
   "source": [
    "### a) Send/receive libs (uln302)"
   ]
  },
  {
   "cell_type": "code",
   "execution_count": null,
   "id": "15",
   "metadata": {},
   "outputs": [],
   "source": [
    "# send lib\n",
    "for key in state_dict.keys():\n",
    "    if key == main_chain:\n",
    "        continue\n",
    "    with boa.swap_env(state_dict[key][\"boa\"]):\n",
    "        # send lib\n",
    "        state_dict[key][\"block_relay\"].set_lz_send_lib(\n",
    "            state_dict[key][\"eid\"], state_dict[key][\"send_lib\"]\n",
    "        )\n",
    "        logging.info(f\"Added send lib: on {key}\")\n",
    "        # receive lib\n",
    "        state_dict[key][\"block_relay\"].set_lz_receive_lib(\n",
    "            state_dict[key][\"eid\"], state_dict[key][\"receive_lib\"]\n",
    "        )\n",
    "        logging.info(f\"Added receive lib: on {key}\")"
   ]
  },
  {
   "cell_type": "markdown",
   "id": "16",
   "metadata": {},
   "source": [
    "### b) Read libs"
   ]
  },
  {
   "cell_type": "code",
   "execution_count": null,
   "id": "17",
   "metadata": {},
   "outputs": [],
   "source": [
    "for key in state_dict.keys():\n",
    "    if key == main_chain or state_dict[key][\"read_lib\"] == \"unavailable\":\n",
    "        continue\n",
    "    with boa.swap_env(state_dict[key][\"boa\"]):\n",
    "        w3 = state_dict[key][\"w3\"]\n",
    "        lzreadlib = w3.eth.contract(address=state_dict[key][\"read_lib\"], abi=lzreadlib_abi)\n",
    "        logging.info(\n",
    "            f\"Read lib type: {lzreadlib.functions.messageLibType().call()}, version: {lzreadlib.functions.version().call()}\"\n",
    "        )\n",
    "        eid_check = [4294967295, 4294967294]\n",
    "        supported_eid = None\n",
    "        for eid in eid_check:\n",
    "            support = lzreadlib.functions.isSupportedEid(eid).call()\n",
    "            logging.info(f\"Supports {eid}: {support}\")\n",
    "            if support and not supported_eid:\n",
    "                supported_eid = eid\n",
    "                break\n",
    "        # make sure read channel is supported\n",
    "        read_channel = state_dict[key][\"block_relay\"].LZ_READ_CHANNEL()\n",
    "        logging.info(\n",
    "            f\"Relayer's {state_dict[key]['block_relay'].address} read channel on {key}: {read_channel}\"\n",
    "        )\n",
    "        if supported_eid and read_channel != supported_eid:\n",
    "            logging.info(f\"Setting read channel to {supported_eid}\")\n",
    "            func = state_dict[key][\"block_relay\"].set_lz_read_channel(supported_eid)\n",
    "\n",
    "        # assign read lib to send and receive on read channel\n",
    "        try:\n",
    "            logging.info(\n",
    "                f\"Setting read lib (send direction) to {state_dict[key]['read_lib']} on {key}\"\n",
    "            )\n",
    "            state_dict[key][\"block_relay\"].set_lz_send_lib(\n",
    "                read_channel, state_dict[key][\"read_lib\"]\n",
    "            )\n",
    "        except Exception:\n",
    "            pass\n",
    "        try:\n",
    "            logging.info(\n",
    "                f\"Setting read lib (receive direction) to {state_dict[key]['read_lib']} on {key}\"\n",
    "            )\n",
    "            state_dict[key][\"block_relay\"].set_lz_receive_lib(\n",
    "                read_channel, state_dict[key][\"read_lib\"]\n",
    "            )\n",
    "        except Exception:\n",
    "            pass"
   ]
  },
  {
   "cell_type": "markdown",
   "id": "18",
   "metadata": {},
   "source": [
    "### c) Set peers"
   ]
  },
  {
   "cell_type": "code",
   "execution_count": null,
   "id": "19",
   "metadata": {},
   "outputs": [],
   "source": [
    "for read_key in state_dict.keys():\n",
    "    # cycle through read-supporting chains\n",
    "    if read_key == main_chain or state_dict[read_key][\"read_lib\"] == \"unavailable\":\n",
    "        continue\n",
    "\n",
    "    contract_read = state_dict[read_key][\"block_relay\"]\n",
    "\n",
    "    read_eid = state_dict[read_key][\"eid\"]\n",
    "    read_oapp = contract_read.address\n",
    "    LZ_READ_CHANNEL = contract_read.LZ_READ_CHANNEL()\n",
    "    # set self as read peer (so read requests can be sent)\n",
    "    if contract_read.LZ_PEERS(LZ_READ_CHANNEL) != read_oapp:\n",
    "        contract_read.set_peer(LZ_READ_CHANNEL, read_oapp)\n",
    "        logging.info(f\"Set peer on {read_key}\")\n",
    "    else:\n",
    "        logging.info(f\"Skipping {read_key} - already set\")\n",
    "\n",
    "    ## nested cycle through all chains\n",
    "    for key in state_dict.keys():\n",
    "        if key == main_chain or key == read_key:\n",
    "            # skip main and current read chain\n",
    "            continue\n",
    "\n",
    "        contract_receiver = state_dict[key][\"block_relay\"]\n",
    "        receiver_eid = state_dict[key][\"eid\"]\n",
    "        receiver_oapp = contract_receiver.address\n",
    "        # add read relayer as peer\n",
    "        try:\n",
    "            contract_receiver.set_peer(read_eid, read_oapp)\n",
    "            logging.info(\n",
    "                f\"{key} - set peer {read_oapp} (eid {read_eid}) for messenger {contract_receiver.address}\"\n",
    "            )\n",
    "        except Exception:\n",
    "            logging.info(f\"Skipping {key} - already set\")\n",
    "        # add chain to read broadcast targets\n",
    "        try:\n",
    "            contract_read.add_broadcast_target(\n",
    "                state_dict[key][\"eid\"], state_dict[key][\"block_relay\"].address\n",
    "            )\n",
    "            logging.info(f\"{read_key} - added {key} to broadcast targets\")\n",
    "        except Exception:\n",
    "            logging.info(f\"Skipping {read_key} - already set\")\n",
    "        # set chain to peers of read relayer\n",
    "        if contract_read.LZ_PEERS(receiver_eid) != receiver_oapp:\n",
    "            contract_read.set_peer(receiver_eid, receiver_oapp)\n",
    "            logging.info(\n",
    "                f\"{read_key} - set peer {receiver_oapp} (eid {receiver_eid}) for messenger {contract_read.address}\"\n",
    "            )\n",
    "        else:\n",
    "            logging.info(f\"Skipping {read_key} - already set\")"
   ]
  },
  {
   "cell_type": "markdown",
   "id": "20",
   "metadata": {},
   "source": [
    "## II. Post-deployment interactions \n",
    "## (web3py to simulate real interactions)"
   ]
  },
  {
   "cell_type": "markdown",
   "id": "21",
   "metadata": {},
   "source": [
    "### 0. Prepare infra"
   ]
  },
  {
   "cell_type": "code",
   "execution_count": null,
   "id": "22",
   "metadata": {},
   "outputs": [],
   "source": [
    "def get_vyper_abi(filepath):\n",
    "    command = [\"vyper\", filepath, \"-f\", \"abi_python\"]\n",
    "    try:\n",
    "        result = subprocess.run(command, capture_output=True, text=True, check=True)\n",
    "        return result.stdout\n",
    "    except subprocess.CalledProcessError as e:\n",
    "        return f\"Error: {e.stderr}\"\n",
    "\n",
    "\n",
    "ABI_RELAY = get_vyper_abi(\"../contracts/messengers/LZBlockRelay.vy\")\n",
    "ABI_ORACLE = get_vyper_abi(\"../contracts/BlockOracle.vy\")\n",
    "for key in state_dict.keys():\n",
    "    if key == main_chain:\n",
    "        continue\n",
    "    state_dict[key][\"block_relay_w3\"] = state_dict[key][\"w3\"].eth.contract(\n",
    "        address=state_dict[key][\"block_relay\"].address, abi=ABI_RELAY\n",
    "    )\n",
    "    state_dict[key][\"oracle_w3\"] = state_dict[key][\"w3\"].eth.contract(\n",
    "        address=state_dict[key][\"oracle\"].address, abi=ABI_ORACLE\n",
    "    )\n",
    "account = Web3().eth.account.from_key(deployer.key)\n",
    "\n",
    "\n",
    "def send_tx_single(w3, func, acc, value=0, gas_multiplier=2):\n",
    "    tx = func.build_transaction(\n",
    "        {\n",
    "            \"from\": account.address,\n",
    "            \"nonce\": w3.eth.get_transaction_count(account.address),\n",
    "            \"value\": value,\n",
    "        }\n",
    "    )\n",
    "    tx[\"gas\"] = int(gas_multiplier * w3.eth.estimate_gas(tx))\n",
    "    signed_tx = w3.eth.account.sign_transaction(tx, private_key=account.key)\n",
    "    tx_hash = w3.eth.send_raw_transaction(signed_tx.raw_transaction)\n",
    "    return tx_hash\n",
    "\n",
    "\n",
    "def send_tx(w3, func, acc, value=0):\n",
    "    success = False\n",
    "    while not success:\n",
    "        try:\n",
    "            tx_hash = send_tx_single(w3, func, acc, value)\n",
    "            success = True\n",
    "        except Exception as e:\n",
    "            if \"replacement transaction underpriced\" in str(e) or \"nonce too low\" in str(e):\n",
    "                print(str(e), \"Retrying...\")\n",
    "                success = False\n",
    "                time.sleep(0.5)\n",
    "            else:\n",
    "                raise e\n",
    "    return tx_hash"
   ]
  },
  {
   "cell_type": "markdown",
   "id": "23",
   "metadata": {},
   "source": [
    "### Simple reads without broadcast"
   ]
  },
  {
   "cell_type": "code",
   "execution_count": null,
   "id": "24",
   "metadata": {},
   "outputs": [],
   "source": [
    "main_block = state_dict[main_chain][\"w3\"].eth.block_number\n",
    "print(f\"Current block number on {main_chain}: {main_block}\")\n",
    "for key in state_dict.keys():\n",
    "    if key == main_chain or state_dict[key][\"read_lib\"] == \"unavailable\":\n",
    "        logging.info(f\"Skipping {key}\")\n",
    "        continue\n",
    "    contract_w3 = state_dict[key][\"block_relay_w3\"]\n",
    "\n",
    "    # First quote read fee\n",
    "    fee = contract_w3.functions.quote_read_fee().call()\n",
    "    logging.info(f\"Read fee: {fee} on {key}\")\n",
    "\n",
    "    # Then request read\n",
    "    func = contract_w3.functions.request_block_hash([], [])\n",
    "    tx_hash = send_tx(state_dict[key][\"w3\"], func, account, 3 * fee)\n",
    "    logging.info(f\"Tx: {tx_hash.hex()} on {key}\")"
   ]
  },
  {
   "cell_type": "code",
   "execution_count": null,
   "id": "25",
   "metadata": {},
   "outputs": [],
   "source": [
    "# Check oracle data (wait until lz message propagates)\n",
    "for key in state_dict.keys():\n",
    "    if key == main_chain:\n",
    "        continue\n",
    "    number = state_dict[key][\"oracle_w3\"].functions.last_confirmed_block_number().call()\n",
    "    block_hash = state_dict[key][\"oracle_w3\"].functions.block_hash(number).call()\n",
    "    logging.info(f\"Last confirmed block on {key}: {number}\")\n",
    "    logging.info(f\"Block hash: {block_hash.hex()}\")\n",
    "    logging.info(f\"Number difference: {main_block - number}\")"
   ]
  },
  {
   "cell_type": "markdown",
   "id": "26",
   "metadata": {},
   "source": [
    "### Now reads with broadcast"
   ]
  },
  {
   "cell_type": "code",
   "execution_count": null,
   "id": "27",
   "metadata": {},
   "outputs": [],
   "source": [
    "# we can quote read fee now\n",
    "# let's pick one of the read chains and quote fee\n",
    "broadcaster = \"base-sepolia\"\n",
    "broadcaster_eid = state_dict[broadcaster][\"eid\"]\n",
    "broadcaster_w3 = state_dict[broadcaster][\"block_relay_w3\"]\n",
    "receive_eids = [\n",
    "    state_dict[key][\"eid\"] for key in state_dict.keys() if key not in [broadcaster, main_chain]\n",
    "]\n",
    "broadcast_fees = broadcaster_w3.functions.quote_broadcast_fees(receive_eids).call()\n",
    "logging.info(f\"LZSend fees: {broadcast_fees} on {broadcaster}\")\n",
    "\n",
    "BROADCAST_GAS = 2_000_000\n",
    "read_fee_with_broadcast = broadcaster_w3.functions.quote_read_fee(\n",
    "    0, BROADCAST_GAS, sum(broadcast_fees)\n",
    ").call()\n",
    "logging.info(f\"LZRead fee with broadcast: {read_fee_with_broadcast} on {broadcaster}\")\n",
    "\n",
    "# magic broadcast call\n",
    "main_block = state_dict[main_chain][\"w3\"].eth.block_number\n",
    "func = broadcaster_w3.functions.request_block_hash(receive_eids, broadcast_fees, 0, BROADCAST_GAS)\n",
    "tx_hash = send_tx(state_dict[broadcaster][\"w3\"], func, account, read_fee_with_broadcast)\n",
    "logging.info(f\"Tx: {tx_hash.hex()} on {broadcaster}\")"
   ]
  },
  {
   "cell_type": "code",
   "execution_count": null,
   "id": "28",
   "metadata": {},
   "outputs": [],
   "source": [
    "# Check oracle data (wait until lz message propagates)\n",
    "for key in state_dict.keys():\n",
    "    if key == main_chain:\n",
    "        continue\n",
    "    number = state_dict[key][\"oracle_w3\"].functions.last_confirmed_block_number().call()\n",
    "    block_hash = state_dict[key][\"oracle_w3\"].functions.block_hash(number).call()\n",
    "    logging.info(f\"Last confirmed block on {key}: {number}\")\n",
    "    logging.info(f\"Block hash: {block_hash.hex()}\")\n",
    "    logging.info(f\"Number difference: {main_block - number}\")"
   ]
  }
 ],
 "metadata": {
  "kernelspec": {
   "display_name": ".venv",
   "language": "python",
   "name": "python3"
  },
  "language_info": {
   "codemirror_mode": {
    "name": "ipython",
    "version": 3
   },
   "file_extension": ".py",
   "mimetype": "text/x-python",
   "name": "python",
   "nbconvert_exporter": "python",
   "pygments_lexer": "ipython3",
   "version": "3.12.6"
  }
 },
 "nbformat": 4,
 "nbformat_minor": 5
}
