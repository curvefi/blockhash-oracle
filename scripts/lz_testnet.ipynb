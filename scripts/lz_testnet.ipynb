{
 "cells": [
  {
   "cell_type": "markdown",
   "id": "0",
   "metadata": {},
   "source": [
    "## Setup RPC & deployer"
   ]
  },
  {
   "cell_type": "code",
   "execution_count": 50,
   "id": "1",
   "metadata": {},
   "outputs": [
    {
     "name": "stdout",
     "output_type": "stream",
     "text": [
      "Deploying with 0x73241E98090042A718f7eb1AF07FAD27ff09A3F3 on sepolia, id 11155111\n",
      "Chain balance is 0.980 ETH\n",
      "Deploying with 0x73241E98090042A718f7eb1AF07FAD27ff09A3F3 on base-sepolia, id 84532\n",
      "Chain balance is 4.993 ETH\n",
      "Deploying with 0x73241E98090042A718f7eb1AF07FAD27ff09A3F3 on optimism-sepolia, id 11155420\n",
      "Chain balance is 5.000 ETH\n",
      "Deploying with 0x73241E98090042A718f7eb1AF07FAD27ff09A3F3 on arbitrum-sepolia, id 421614\n",
      "Chain balance is 0.998 ETH\n"
     ]
    }
   ],
   "source": [
    "from dotenv import load_dotenv\n",
    "import os\n",
    "import boa\n",
    "from eth_account import Account\n",
    "from web3 import Web3\n",
    "import logging\n",
    "import subprocess\n",
    "import time\n",
    "\n",
    "load_dotenv()\n",
    "chain_handle = \"base-sepolia\"\n",
    "\n",
    "PRIVATE_KEY = os.environ.get(\"WEB3_TESTNET_PK\")\n",
    "RPCs = {\n",
    "    \"sepolia\": \"https://sepolia.drpc.org\",\n",
    "    \"base-sepolia\": \"https://sepolia.base.org\",\n",
    "    \"optimism-sepolia\": \"https://sepolia.optimism.io\",\n",
    "    \"arbitrum-sepolia\": \"https://sepolia-rollup.arbitrum.io/rpc\",\n",
    "}\n",
    "\n",
    "state_dict = {}\n",
    "# RPC_URL = RPCs[chain_handle]\n",
    "\n",
    "deployer = Account.from_key(PRIVATE_KEY)\n",
    "\n",
    "for key in RPCs.keys():\n",
    "    state_dict[key] = {}\n",
    "    state_dict[key]['rpc'] = RPCs[key]\n",
    "    boa.set_network_env(RPCs[key])\n",
    "    boa.env.add_account(deployer)\n",
    "    state_dict[key]['boa'] = boa.env # oops\n",
    "    state_dict[key]['w3'] = Web3(Web3.HTTPProvider(RPCs[key]))\n",
    "    \n",
    "for key in state_dict.keys():\n",
    "    with boa.swap_env(state_dict[key]['boa']):\n",
    "        print(f\"Deploying with {boa.env.eoa} on {key}, id {boa.env.evm.patch.chain_id}\")\n",
    "        print(f\"Chain balance is {state_dict[key]['w3'].eth.get_balance(boa.env.eoa)/1e18 :.3f} ETH\")"
   ]
  },
  {
   "cell_type": "markdown",
   "id": "b2a54825",
   "metadata": {},
   "source": [
    "## Deploy block oracles and main view contract"
   ]
  },
  {
   "cell_type": "code",
   "execution_count": 47,
   "id": "bab38d75",
   "metadata": {},
   "outputs": [
    {
     "name": "stdout",
     "output_type": "stream",
     "text": [
      "tx broadcasted: 0xf14ec70b9d998297237c50cb46172a9467914c7abd0cdfc0768b17df3c092e00\n",
      "0xf14ec70b9d998297237c50cb46172a9467914c7abd0cdfc0768b17df3c092e00 mined in block 0xad37e6eb7e2bbf9a3bd3b4b3b5ab7ad2b41ec2099a0647bfc212a964f5ffa1d6!\n",
      "contract deployed at 0xc74ad0D9479086c02512FF0fc405cdD267370284\n",
      "Block view deployed at 0xc74ad0D9479086c02512FF0fc405cdD267370284 on sepolia\n",
      "tx broadcasted: 0x5a6156e23a6a6e34d29abaaa812300bc1d0c441ec63a768eb7e99859719e7c28\n",
      "0x5a6156e23a6a6e34d29abaaa812300bc1d0c441ec63a768eb7e99859719e7c28 mined in block 0x1f335ebc2b4e1b6ee03c26a00e86a0450510431082956853c8d0abe1bf2202e0!\n",
      "contract deployed at 0x37E3ba4278AE8269C5e482052bB37E358Cfb1B35\n",
      "Block oracle deployed at 0x37E3ba4278AE8269C5e482052bB37E358Cfb1B35 on base-sepolia\n",
      "tx broadcasted: 0x81113bbc43c1c079b3cb8b470152192024e86f42b453444351529f37fca5a772\n",
      "0x81113bbc43c1c079b3cb8b470152192024e86f42b453444351529f37fca5a772 mined in block 0x267456b3f840cefedd91b237b51aca9d7c34db111cba1e4c5e71e9711936d669!\n",
      "contract deployed at 0xeD42090A1b712d8A875948d189194Ad2e44d4780\n",
      "Block oracle deployed at 0xeD42090A1b712d8A875948d189194Ad2e44d4780 on optimism-sepolia\n",
      "tx broadcasted: 0xfa267802c1a6e6ca030288b74cfcd10bb11e9fa7e69f4c44f112062b0796ecd5\n",
      "0xfa267802c1a6e6ca030288b74cfcd10bb11e9fa7e69f4c44f112062b0796ecd5 mined in block 0x89f7dff5a67c0734ed6ef3c720f4ebbbada9590dbcd4a1c94d795c647d418a52!\n",
      "contract deployed at 0xB73005c378c35DBD560a3c2f6F51A57151A5956b\n",
      "Block oracle deployed at 0xB73005c378c35DBD560a3c2f6F51A57151A5956b on arbitrum-sepolia\n"
     ]
    }
   ],
   "source": [
    "main_chain = 'sepolia'\n",
    "\n",
    "for key in state_dict.keys():\n",
    "    with boa.swap_env(state_dict[key]['boa']):\n",
    "        if key == main_chain:\n",
    "            contract_deployer = boa.load_partial(\"../contracts/MainnetBlockView.vy\")\n",
    "            contract = contract_deployer()\n",
    "            print(f\"Block view deployed at {contract.address} on {key}\") \n",
    "        else:                  \n",
    "            contract_deployer = boa.load_partial(\"../contracts/BlockOracle.vy\")\n",
    "            contract = contract_deployer(1) # commit threshold\n",
    "            print(f\"Block oracle deployed at {contract.address} on {key}\")\n",
    "        state_dict[key]['oracle'] = contract\n"
   ]
  },
  {
   "cell_type": "markdown",
   "id": "2",
   "metadata": {},
   "source": [
    "## Setup LZ"
   ]
  },
  {
   "cell_type": "code",
   "execution_count": 51,
   "id": "3",
   "metadata": {},
   "outputs": [
    {
     "name": "stdout",
     "output_type": "stream",
     "text": [
      "LZ details for sepolia:\n",
      "Chain eID: 40161\n",
      "Endpoint address: 0x6EDCE65403992e310A62460808c4b910D972f10f\n",
      "DVNs: 10, Read DVNs: 1\n",
      "Send lib: 0xcc1ae8Cf5D3904Cef3360A9532B477529b177cCE\n",
      "Receive lib: 0xdAf00F5eE2158dD58E0d3857851c432E34A3A851\n",
      "Read lib: 0x908E86e9cb3F16CC94AE7569Bf64Ce2CE04bbcBE\n",
      "---\n",
      "LZ details for base-sepolia:\n",
      "Chain eID: 40245\n",
      "Endpoint address: 0x6EDCE65403992e310A62460808c4b910D972f10f\n",
      "DVNs: 4, Read DVNs: 1\n",
      "Send lib: 0xC1868e054425D378095A003EcbA3823a5D0135C9\n",
      "Receive lib: 0x12523de19dc41c91F7d2093E0CFbB76b17012C8d\n",
      "Read lib: 0x29270F0CFC54432181C853Cd25E2Fb60A68E03f2\n",
      "---\n",
      "LZ details for optimism-sepolia:\n",
      "Chain eID: 40232\n",
      "Endpoint address: 0x6EDCE65403992e310A62460808c4b910D972f10f\n",
      "DVNs: 4, Read DVNs: 0\n",
      "Send lib: 0xB31D2cb502E25B30C651842C7C3293c51Fe6d16f\n",
      "Receive lib: 0x9284fd59B95b9143AF0b9795CAC16eb3C723C9Ca\n",
      "Read lib: unavailable\n",
      "---\n",
      "LZ details for arbitrum-sepolia:\n",
      "Chain eID: 40231\n",
      "Endpoint address: 0x6EDCE65403992e310A62460808c4b910D972f10f\n",
      "DVNs: 7, Read DVNs: 1\n",
      "Send lib: 0x4f7cd4DA19ABB31b0eC98b9066B9e857B1bf9C0E\n",
      "Receive lib: 0x75Db67CDab2824970131D5aa9CECfC9F69c69636\n",
      "Read lib: 0x54320b901FDe49Ba98de821Ccf374BA4358a8bf6\n",
      "---\n"
     ]
    }
   ],
   "source": [
    "from LZDeployments import LZDeployments\n",
    "lz = LZDeployments()\n",
    "for chain in state_dict:\n",
    "   metadata = lz.get_chain_metadata(chain)[\"metadata\"]\n",
    "   dvn_data = lz.get_chain_metadata(chain)\n",
    "   \n",
    "   # Update state dict\n",
    "   state_dict[chain].update({\n",
    "       'eid': metadata['eid'],\n",
    "       'endpoint': metadata['endpointV2'],\n",
    "       'send_lib': metadata.get('sendUln302', 'unavailable'),\n",
    "       'receive_lib': metadata.get('receiveUln302', 'unavailable'),\n",
    "       'read_lib': metadata.get('readLib1002', 'unavailable'),\n",
    "       'dvns': dvn_data['dvns']\n",
    "   })\n",
    "\n",
    "   # Print info\n",
    "   print(f\"LZ details for {chain}:\")\n",
    "   print(f\"Chain eID: {metadata['eid']}\\nEndpoint address: {metadata['endpointV2']}\")\n",
    "   print(f\"DVNs: {len(dvn_data['dvns'])}, Read DVNs: {len(dvn_data['dvns_lzread'])}\")\n",
    "   print(f\"Send lib: {state_dict[chain]['send_lib']}\\n\"\n",
    "         f\"Receive lib: {state_dict[chain]['receive_lib']}\\n\"\n",
    "         f\"Read lib: {state_dict[chain]['read_lib']}\\n---\")"
   ]
  },
  {
   "cell_type": "markdown",
   "id": "4",
   "metadata": {},
   "source": [
    "# I. Deployment"
   ]
  },
  {
   "cell_type": "code",
   "execution_count": 52,
   "id": "6",
   "metadata": {},
   "outputs": [
    {
     "name": "stdout",
     "output_type": "stream",
     "text": [
      "tx broadcasted: 0x855febe1caf44c6edfc5c35d571fa5c7bbe9fbdbc8f1e9228661b3634a9c145a\n"
     ]
    },
    {
     "name": "stderr",
     "output_type": "stream",
     "text": [
      "/Users/michael/.local/share/uv/python/cpython-3.12.6-macos-aarch64-none/lib/python3.12/functools.py:993: UserWarning: debug_traceTransaction not available! titanoboa will try hard to interact with the network, but this means that titanoboa is not able to do certain safety checks at runtime. it is recommended to switch to a node or provider with debug_traceTransaction.\n",
      "  val = self.func(instance)\n"
     ]
    },
    {
     "name": "stdout",
     "output_type": "stream",
     "text": [
      "0x855febe1caf44c6edfc5c35d571fa5c7bbe9fbdbc8f1e9228661b3634a9c145a mined in block 0x3617c97cbc76d6e8b2c8002cfeb74ffcb248a47eaac5fefba3c8faa354d6cc42!\n",
      "contract deployed at 0x351c9FcBe456efBbFbD2A39448EF2aCC94D449Ab\n",
      "LZ Messenger deployed at 0x351c9FcBe456efBbFbD2A39448EF2aCC94D449Ab on base-sepolia\n",
      "tx broadcasted: 0x42bc310488d5f39b7c56f480ff1843b603605b384f2fa152c43c6ccddd7f6c09\n",
      "0x42bc310488d5f39b7c56f480ff1843b603605b384f2fa152c43c6ccddd7f6c09 mined in block 0xa5236b945aa469664bf245626789b43c78a84a2c08f08905a574e7516e0378e3!\n",
      "contract deployed at 0xc190a9403367c0D3343C44a2e8c683E5573BE4F7\n",
      "LZ Messenger deployed at 0xc190a9403367c0D3343C44a2e8c683E5573BE4F7 on optimism-sepolia\n",
      "tx broadcasted: 0xa9823ea4fbf955056f0d6bd4c8dfe4059c4d64fab763c7bb56c03ef7db1893d1\n",
      "0xa9823ea4fbf955056f0d6bd4c8dfe4059c4d64fab763c7bb56c03ef7db1893d1 mined in block 0xc9e2b57b2eb27542e4be6028a95899a91fc74b27514b0c01dbdc398d62820a77!\n",
      "contract deployed at 0x2665d04eBF02e27A0D95cf7B491BbC9E48069aed\n",
      "LZ Messenger deployed at 0x2665d04eBF02e27A0D95cf7B491BbC9E48069aed on arbitrum-sepolia\n"
     ]
    }
   ],
   "source": [
    "# Deploy LZ messenger on each chain\n",
    "\n",
    "for chain in state_dict:\n",
    "    if chain == main_chain:\n",
    "        continue\n",
    "    with boa.swap_env(state_dict[chain]['boa']):\n",
    "        contract_deployer = boa.load_partial(\"../contracts/messengers/LZMessenger.vy\")\n",
    "        contract = contract_deployer(\n",
    "            state_dict[chain]['endpoint'],  # endpoint on the chain\n",
    "            500_000,  # default gas limit\n",
    "        )\n",
    "        print(f\"LZ Messenger deployed at {contract.address} on {chain}\")\n",
    "        state_dict[chain]['messenger'] = contract\n"
   ]
  },
  {
   "cell_type": "markdown",
   "id": "7",
   "metadata": {},
   "source": [
    "## II. Post-deployment interactions \n",
    "## (web3py to simulate real interactions)"
   ]
  },
  {
   "cell_type": "markdown",
   "id": "8",
   "metadata": {},
   "source": [
    "### 0. Prepare infra"
   ]
  },
  {
   "cell_type": "code",
   "execution_count": 65,
   "id": "9",
   "metadata": {},
   "outputs": [],
   "source": [
    "def get_vyper_abi():\n",
    "    command = [\"vyper\", \"../contracts/messengers/LZMessenger.vy\", \"-f\", \"abi_python\"]\n",
    "    try:\n",
    "        result = subprocess.run(command, capture_output=True, text=True, check=True)\n",
    "        return result.stdout\n",
    "    except subprocess.CalledProcessError as e:\n",
    "        return f\"Error: {e.stderr}\"\n",
    "\n",
    "\n",
    "logging.basicConfig(level=logging.INFO, format=\"%(asctime)s - %(message)s\")\n",
    "\n",
    "ABI = get_vyper_abi()\n",
    "for key in state_dict.keys():\n",
    "    if key == main_chain:\n",
    "        continue\n",
    "    address = state_dict[key]['messenger'].address\n",
    "    state_dict[key]['messenger_w3'] = state_dict[key]['w3'].eth.contract(address=address, abi=ABI)\n",
    "\n",
    "account = Web3().eth.account.from_key(deployer.key)\n",
    "\n",
    "\n",
    "def send_tx_single(w3, func, acc, value=0):\n",
    "    tx = func.build_transaction(\n",
    "        {\n",
    "            \"from\": account.address,\n",
    "            \"nonce\": w3.eth.get_transaction_count(account.address),\n",
    "            \"value\": value,\n",
    "        }\n",
    "    )\n",
    "    tx[\"gas\"] = int(5 * w3.eth.estimate_gas(tx))\n",
    "    signed_tx = w3.eth.account.sign_transaction(tx, private_key=account.key)\n",
    "    tx_hash = w3.eth.send_raw_transaction(signed_tx.raw_transaction)\n",
    "    return tx_hash\n",
    "\n",
    "\n",
    "def send_tx(w3, func, acc, value=0):\n",
    "    success = False\n",
    "    while not success:\n",
    "        try:\n",
    "            tx_hash = send_tx_single(w3, func, acc, value)\n",
    "            success = True\n",
    "        except Exception as e:\n",
    "            if \"replacement transaction underpriced\" in str(e) or \"nonce too low\" in str(e):\n",
    "                print(str(e), \"Retrying...\")\n",
    "                success = False\n",
    "                time.sleep(0.5)\n",
    "            else:\n",
    "                raise e\n",
    "    return tx_hash"
   ]
  },
  {
   "cell_type": "markdown",
   "id": "10",
   "metadata": {},
   "source": [
    "## Prepare Libs"
   ]
  },
  {
   "cell_type": "code",
   "execution_count": 67,
   "id": "11",
   "metadata": {},
   "outputs": [
    {
     "ename": "ContractCustomError",
     "evalue": "('0xd0ecb66b', '0xd0ecb66b')",
     "output_type": "error",
     "traceback": [
      "\u001b[0;31m---------------------------------------------------------------------------\u001b[0m",
      "\u001b[0;31mContractCustomError\u001b[0m                       Traceback (most recent call last)",
      "Cell \u001b[0;32mIn[67], line 7\u001b[0m\n\u001b[1;32m      5\u001b[0m     \u001b[38;5;28;01mwith\u001b[39;00m boa\u001b[38;5;241m.\u001b[39mswap_env(state_dict[key][\u001b[38;5;124m'\u001b[39m\u001b[38;5;124mboa\u001b[39m\u001b[38;5;124m'\u001b[39m]):\n\u001b[1;32m      6\u001b[0m         func \u001b[38;5;241m=\u001b[39m state_dict[key][\u001b[38;5;124m'\u001b[39m\u001b[38;5;124mmessenger_w3\u001b[39m\u001b[38;5;124m'\u001b[39m]\u001b[38;5;241m.\u001b[39mfunctions\u001b[38;5;241m.\u001b[39mset_lz_send_lib(state_dict[key][\u001b[38;5;124m'\u001b[39m\u001b[38;5;124meid\u001b[39m\u001b[38;5;124m'\u001b[39m], state_dict[key][\u001b[38;5;124m'\u001b[39m\u001b[38;5;124msend_lib\u001b[39m\u001b[38;5;124m'\u001b[39m])\n\u001b[0;32m----> 7\u001b[0m         tx_hash \u001b[38;5;241m=\u001b[39m \u001b[43msend_tx\u001b[49m\u001b[43m(\u001b[49m\u001b[43mstate_dict\u001b[49m\u001b[43m[\u001b[49m\u001b[43mkey\u001b[49m\u001b[43m]\u001b[49m\u001b[43m[\u001b[49m\u001b[38;5;124;43m'\u001b[39;49m\u001b[38;5;124;43mw3\u001b[39;49m\u001b[38;5;124;43m'\u001b[39;49m\u001b[43m]\u001b[49m\u001b[43m,\u001b[49m\u001b[43m \u001b[49m\u001b[43mfunc\u001b[49m\u001b[43m,\u001b[49m\u001b[43m \u001b[49m\u001b[43maccount\u001b[49m\u001b[43m)\u001b[49m\n\u001b[1;32m      8\u001b[0m         \u001b[38;5;28mprint\u001b[39m(\u001b[38;5;124mf\u001b[39m\u001b[38;5;124m\"\u001b[39m\u001b[38;5;124mAdded send lib: \u001b[39m\u001b[38;5;132;01m{\u001b[39;00mtx_hash\u001b[38;5;241m.\u001b[39mhex()\u001b[38;5;132;01m}\u001b[39;00m\u001b[38;5;124m on \u001b[39m\u001b[38;5;132;01m{\u001b[39;00mkey\u001b[38;5;132;01m}\u001b[39;00m\u001b[38;5;124m\"\u001b[39m)\n\u001b[1;32m     10\u001b[0m \u001b[38;5;66;03m# receive lib\u001b[39;00m\n",
      "Cell \u001b[0;32mIn[65], line 48\u001b[0m, in \u001b[0;36msend_tx\u001b[0;34m(w3, func, acc, value)\u001b[0m\n\u001b[1;32m     46\u001b[0m             time\u001b[38;5;241m.\u001b[39msleep(\u001b[38;5;241m0.5\u001b[39m)\n\u001b[1;32m     47\u001b[0m         \u001b[38;5;28;01melse\u001b[39;00m:\n\u001b[0;32m---> 48\u001b[0m             \u001b[38;5;28;01mraise\u001b[39;00m e\n\u001b[1;32m     49\u001b[0m \u001b[38;5;28;01mreturn\u001b[39;00m tx_hash\n",
      "Cell \u001b[0;32mIn[65], line 40\u001b[0m, in \u001b[0;36msend_tx\u001b[0;34m(w3, func, acc, value)\u001b[0m\n\u001b[1;32m     38\u001b[0m \u001b[38;5;28;01mwhile\u001b[39;00m \u001b[38;5;129;01mnot\u001b[39;00m success:\n\u001b[1;32m     39\u001b[0m     \u001b[38;5;28;01mtry\u001b[39;00m:\n\u001b[0;32m---> 40\u001b[0m         tx_hash \u001b[38;5;241m=\u001b[39m \u001b[43msend_tx_single\u001b[49m\u001b[43m(\u001b[49m\u001b[43mw3\u001b[49m\u001b[43m,\u001b[49m\u001b[43m \u001b[49m\u001b[43mfunc\u001b[49m\u001b[43m,\u001b[49m\u001b[43m \u001b[49m\u001b[43macc\u001b[49m\u001b[43m,\u001b[49m\u001b[43m \u001b[49m\u001b[43mvalue\u001b[49m\u001b[43m)\u001b[49m\n\u001b[1;32m     41\u001b[0m         success \u001b[38;5;241m=\u001b[39m \u001b[38;5;28;01mTrue\u001b[39;00m\n\u001b[1;32m     42\u001b[0m     \u001b[38;5;28;01mexcept\u001b[39;00m \u001b[38;5;167;01mException\u001b[39;00m \u001b[38;5;28;01mas\u001b[39;00m e:\n",
      "Cell \u001b[0;32mIn[65], line 23\u001b[0m, in \u001b[0;36msend_tx_single\u001b[0;34m(w3, func, acc, value)\u001b[0m\n\u001b[1;32m     22\u001b[0m \u001b[38;5;28;01mdef\u001b[39;00m\u001b[38;5;250m \u001b[39m\u001b[38;5;21msend_tx_single\u001b[39m(w3, func, acc, value\u001b[38;5;241m=\u001b[39m\u001b[38;5;241m0\u001b[39m):\n\u001b[0;32m---> 23\u001b[0m     tx \u001b[38;5;241m=\u001b[39m \u001b[43mfunc\u001b[49m\u001b[38;5;241;43m.\u001b[39;49m\u001b[43mbuild_transaction\u001b[49m\u001b[43m(\u001b[49m\n\u001b[1;32m     24\u001b[0m \u001b[43m        \u001b[49m\u001b[43m{\u001b[49m\n\u001b[1;32m     25\u001b[0m \u001b[43m            \u001b[49m\u001b[38;5;124;43m\"\u001b[39;49m\u001b[38;5;124;43mfrom\u001b[39;49m\u001b[38;5;124;43m\"\u001b[39;49m\u001b[43m:\u001b[49m\u001b[43m \u001b[49m\u001b[43maccount\u001b[49m\u001b[38;5;241;43m.\u001b[39;49m\u001b[43maddress\u001b[49m\u001b[43m,\u001b[49m\n\u001b[1;32m     26\u001b[0m \u001b[43m            \u001b[49m\u001b[38;5;124;43m\"\u001b[39;49m\u001b[38;5;124;43mnonce\u001b[39;49m\u001b[38;5;124;43m\"\u001b[39;49m\u001b[43m:\u001b[49m\u001b[43m \u001b[49m\u001b[43mw3\u001b[49m\u001b[38;5;241;43m.\u001b[39;49m\u001b[43meth\u001b[49m\u001b[38;5;241;43m.\u001b[39;49m\u001b[43mget_transaction_count\u001b[49m\u001b[43m(\u001b[49m\u001b[43maccount\u001b[49m\u001b[38;5;241;43m.\u001b[39;49m\u001b[43maddress\u001b[49m\u001b[43m)\u001b[49m\u001b[43m,\u001b[49m\n\u001b[1;32m     27\u001b[0m \u001b[43m            \u001b[49m\u001b[38;5;124;43m\"\u001b[39;49m\u001b[38;5;124;43mvalue\u001b[39;49m\u001b[38;5;124;43m\"\u001b[39;49m\u001b[43m:\u001b[49m\u001b[43m \u001b[49m\u001b[43mvalue\u001b[49m\u001b[43m,\u001b[49m\n\u001b[1;32m     28\u001b[0m \u001b[43m        \u001b[49m\u001b[43m}\u001b[49m\n\u001b[1;32m     29\u001b[0m \u001b[43m    \u001b[49m\u001b[43m)\u001b[49m\n\u001b[1;32m     30\u001b[0m     tx[\u001b[38;5;124m\"\u001b[39m\u001b[38;5;124mgas\u001b[39m\u001b[38;5;124m\"\u001b[39m] \u001b[38;5;241m=\u001b[39m \u001b[38;5;28mint\u001b[39m(\u001b[38;5;241m5\u001b[39m \u001b[38;5;241m*\u001b[39m w3\u001b[38;5;241m.\u001b[39meth\u001b[38;5;241m.\u001b[39mestimate_gas(tx))\n\u001b[1;32m     31\u001b[0m     signed_tx \u001b[38;5;241m=\u001b[39m w3\u001b[38;5;241m.\u001b[39meth\u001b[38;5;241m.\u001b[39maccount\u001b[38;5;241m.\u001b[39msign_transaction(tx, private_key\u001b[38;5;241m=\u001b[39maccount\u001b[38;5;241m.\u001b[39mkey)\n",
      "File \u001b[0;32m~/Documents/projects/blockhash-oracle/.venv/lib/python3.12/site-packages/web3/contract/contract.py:510\u001b[0m, in \u001b[0;36mContractFunction.build_transaction\u001b[0;34m(self, transaction)\u001b[0m\n\u001b[1;32m    507\u001b[0m built_transaction \u001b[38;5;241m=\u001b[39m \u001b[38;5;28mself\u001b[39m\u001b[38;5;241m.\u001b[39m_build_transaction(transaction)\n\u001b[1;32m    508\u001b[0m abi_element_identifier \u001b[38;5;241m=\u001b[39m abi_to_signature(\u001b[38;5;28mself\u001b[39m\u001b[38;5;241m.\u001b[39mabi)\n\u001b[0;32m--> 510\u001b[0m \u001b[38;5;28;01mreturn\u001b[39;00m \u001b[43mbuild_transaction_for_function\u001b[49m\u001b[43m(\u001b[49m\n\u001b[1;32m    511\u001b[0m \u001b[43m    \u001b[49m\u001b[38;5;28;43mself\u001b[39;49m\u001b[38;5;241;43m.\u001b[39;49m\u001b[43maddress\u001b[49m\u001b[43m,\u001b[49m\n\u001b[1;32m    512\u001b[0m \u001b[43m    \u001b[49m\u001b[38;5;28;43mself\u001b[39;49m\u001b[38;5;241;43m.\u001b[39;49m\u001b[43mw3\u001b[49m\u001b[43m,\u001b[49m\n\u001b[1;32m    513\u001b[0m \u001b[43m    \u001b[49m\u001b[43mabi_element_identifier\u001b[49m\u001b[43m,\u001b[49m\n\u001b[1;32m    514\u001b[0m \u001b[43m    \u001b[49m\u001b[43mbuilt_transaction\u001b[49m\u001b[43m,\u001b[49m\n\u001b[1;32m    515\u001b[0m \u001b[43m    \u001b[49m\u001b[38;5;28;43mself\u001b[39;49m\u001b[38;5;241;43m.\u001b[39;49m\u001b[43mcontract_abi\u001b[49m\u001b[43m,\u001b[49m\n\u001b[1;32m    516\u001b[0m \u001b[43m    \u001b[49m\u001b[38;5;28;43mself\u001b[39;49m\u001b[38;5;241;43m.\u001b[39;49m\u001b[43mabi\u001b[49m\u001b[43m,\u001b[49m\n\u001b[1;32m    517\u001b[0m \u001b[43m    \u001b[49m\u001b[38;5;241;43m*\u001b[39;49m\u001b[38;5;28;43mself\u001b[39;49m\u001b[38;5;241;43m.\u001b[39;49m\u001b[43margs\u001b[49m\u001b[43m \u001b[49m\u001b[38;5;129;43;01mor\u001b[39;49;00m\u001b[43m \u001b[49m\u001b[43m(\u001b[49m\u001b[43m)\u001b[49m\u001b[43m,\u001b[49m\n\u001b[1;32m    518\u001b[0m \u001b[43m    \u001b[49m\u001b[38;5;241;43m*\u001b[39;49m\u001b[38;5;241;43m*\u001b[39;49m\u001b[38;5;28;43mself\u001b[39;49m\u001b[38;5;241;43m.\u001b[39;49m\u001b[43mkwargs\u001b[49m\u001b[43m \u001b[49m\u001b[38;5;129;43;01mor\u001b[39;49;00m\u001b[43m \u001b[49m\u001b[43m{\u001b[49m\u001b[43m}\u001b[49m\u001b[43m,\u001b[49m\n\u001b[1;32m    519\u001b[0m \u001b[43m\u001b[49m\u001b[43m)\u001b[49m\n",
      "File \u001b[0;32m~/Documents/projects/blockhash-oracle/.venv/lib/python3.12/site-packages/web3/contract/utils.py:331\u001b[0m, in \u001b[0;36mbuild_transaction_for_function\u001b[0;34m(address, w3, abi_element_identifier, transaction, contract_abi, fn_abi, *args, **kwargs)\u001b[0m\n\u001b[1;32m    314\u001b[0m \u001b[38;5;250m\u001b[39m\u001b[38;5;124;03m\"\"\"\u001b[39;00m\n\u001b[1;32m    315\u001b[0m \u001b[38;5;124;03mBuilds a dictionary with the fields required to make the given transaction\u001b[39;00m\n\u001b[1;32m    316\u001b[0m \n\u001b[1;32m    317\u001b[0m \u001b[38;5;124;03mDon't call this directly, instead use :meth:`Contract.build_transaction`\u001b[39;00m\n\u001b[1;32m    318\u001b[0m \u001b[38;5;124;03mon your contract instance.\u001b[39;00m\n\u001b[1;32m    319\u001b[0m \u001b[38;5;124;03m\"\"\"\u001b[39;00m\n\u001b[1;32m    320\u001b[0m prepared_transaction \u001b[38;5;241m=\u001b[39m prepare_transaction(\n\u001b[1;32m    321\u001b[0m     address,\n\u001b[1;32m    322\u001b[0m     w3,\n\u001b[0;32m   (...)\u001b[0m\n\u001b[1;32m    328\u001b[0m     fn_kwargs\u001b[38;5;241m=\u001b[39mkwargs,\n\u001b[1;32m    329\u001b[0m )\n\u001b[0;32m--> 331\u001b[0m prepared_transaction \u001b[38;5;241m=\u001b[39m \u001b[43mfill_transaction_defaults\u001b[49m\u001b[43m(\u001b[49m\u001b[43mw3\u001b[49m\u001b[43m,\u001b[49m\u001b[43m \u001b[49m\u001b[43mprepared_transaction\u001b[49m\u001b[43m)\u001b[49m\n\u001b[1;32m    333\u001b[0m \u001b[38;5;28;01mreturn\u001b[39;00m prepared_transaction\n",
      "File \u001b[0;32m~/Documents/projects/blockhash-oracle/.venv/lib/python3.12/site-packages/cytoolz/functoolz.pyx:268\u001b[0m, in \u001b[0;36mcytoolz.functoolz.curry.__call__\u001b[0;34m()\u001b[0m\n",
      "File \u001b[0;32m~/Documents/projects/blockhash-oracle/.venv/lib/python3.12/site-packages/web3/_utils/transactions.py:141\u001b[0m, in \u001b[0;36mfill_transaction_defaults\u001b[0;34m(w3, transaction)\u001b[0m\n\u001b[1;32m    137\u001b[0m     \u001b[38;5;28;01mif\u001b[39;00m w3 \u001b[38;5;129;01mis\u001b[39;00m \u001b[38;5;28;01mNone\u001b[39;00m:\n\u001b[1;32m    138\u001b[0m         \u001b[38;5;28;01mraise\u001b[39;00m Web3ValueError(\n\u001b[1;32m    139\u001b[0m             \u001b[38;5;124mf\u001b[39m\u001b[38;5;124m\"\u001b[39m\u001b[38;5;124mYou must specify a \u001b[39m\u001b[38;5;124m'\u001b[39m\u001b[38;5;132;01m{\u001b[39;00mkey\u001b[38;5;132;01m}\u001b[39;00m\u001b[38;5;124m'\u001b[39m\u001b[38;5;124m value in the transaction\u001b[39m\u001b[38;5;124m\"\u001b[39m\n\u001b[1;32m    140\u001b[0m         )\n\u001b[0;32m--> 141\u001b[0m     default_val \u001b[38;5;241m=\u001b[39m \u001b[43mdefault_getter\u001b[49m\u001b[43m(\u001b[49m\u001b[43mw3\u001b[49m\u001b[43m,\u001b[49m\u001b[43m \u001b[49m\u001b[43mtransaction\u001b[49m\u001b[43m,\u001b[49m\u001b[43m \u001b[49m\u001b[43mdefaults\u001b[49m\u001b[43m)\u001b[49m\n\u001b[1;32m    142\u001b[0m \u001b[38;5;28;01melse\u001b[39;00m:\n\u001b[1;32m    143\u001b[0m     default_val \u001b[38;5;241m=\u001b[39m default_getter\n",
      "File \u001b[0;32m~/Documents/projects/blockhash-oracle/.venv/lib/python3.12/site-packages/web3/_utils/transactions.py:79\u001b[0m, in \u001b[0;36m<lambda>\u001b[0;34m(w3, tx, _defaults)\u001b[0m\n\u001b[1;32m     42\u001b[0m TX_PARAM_LITERALS \u001b[38;5;241m=\u001b[39m Literal[\n\u001b[1;32m     43\u001b[0m     \u001b[38;5;124m\"\u001b[39m\u001b[38;5;124mtype\u001b[39m\u001b[38;5;124m\"\u001b[39m,\n\u001b[1;32m     44\u001b[0m     \u001b[38;5;124m\"\u001b[39m\u001b[38;5;124mfrom\u001b[39m\u001b[38;5;124m\"\u001b[39m,\n\u001b[0;32m   (...)\u001b[0m\n\u001b[1;32m     56\u001b[0m     \u001b[38;5;124m\"\u001b[39m\u001b[38;5;124mblobVersionedHashes\u001b[39m\u001b[38;5;124m\"\u001b[39m,\n\u001b[1;32m     57\u001b[0m ]\n\u001b[1;32m     59\u001b[0m VALID_TRANSACTION_PARAMS: List[TX_PARAM_LITERALS] \u001b[38;5;241m=\u001b[39m [\n\u001b[1;32m     60\u001b[0m     \u001b[38;5;124m\"\u001b[39m\u001b[38;5;124mtype\u001b[39m\u001b[38;5;124m\"\u001b[39m,\n\u001b[1;32m     61\u001b[0m     \u001b[38;5;124m\"\u001b[39m\u001b[38;5;124mfrom\u001b[39m\u001b[38;5;124m\"\u001b[39m,\n\u001b[0;32m   (...)\u001b[0m\n\u001b[1;32m     73\u001b[0m     \u001b[38;5;124m\"\u001b[39m\u001b[38;5;124mblobVersionedHashes\u001b[39m\u001b[38;5;124m\"\u001b[39m,\n\u001b[1;32m     74\u001b[0m ]\n\u001b[1;32m     76\u001b[0m TRANSACTION_DEFAULTS \u001b[38;5;241m=\u001b[39m {\n\u001b[1;32m     77\u001b[0m     \u001b[38;5;124m\"\u001b[39m\u001b[38;5;124mvalue\u001b[39m\u001b[38;5;124m\"\u001b[39m: \u001b[38;5;241m0\u001b[39m,\n\u001b[1;32m     78\u001b[0m     \u001b[38;5;124m\"\u001b[39m\u001b[38;5;124mdata\u001b[39m\u001b[38;5;124m\"\u001b[39m: \u001b[38;5;124mb\u001b[39m\u001b[38;5;124m\"\u001b[39m\u001b[38;5;124m\"\u001b[39m,\n\u001b[0;32m---> 79\u001b[0m     \u001b[38;5;124m\"\u001b[39m\u001b[38;5;124mgas\u001b[39m\u001b[38;5;124m\"\u001b[39m: \u001b[38;5;28;01mlambda\u001b[39;00m w3, tx, _defaults: \u001b[43mw3\u001b[49m\u001b[38;5;241;43m.\u001b[39;49m\u001b[43meth\u001b[49m\u001b[38;5;241;43m.\u001b[39;49m\u001b[43mestimate_gas\u001b[49m\u001b[43m(\u001b[49m\u001b[43mtx\u001b[49m\u001b[43m)\u001b[49m,\n\u001b[1;32m     80\u001b[0m     \u001b[38;5;124m\"\u001b[39m\u001b[38;5;124mgasPrice\u001b[39m\u001b[38;5;124m\"\u001b[39m: \u001b[38;5;28;01mlambda\u001b[39;00m w3, tx, _defaults: w3\u001b[38;5;241m.\u001b[39meth\u001b[38;5;241m.\u001b[39mgenerate_gas_price(tx),\n\u001b[1;32m     81\u001b[0m     \u001b[38;5;124m\"\u001b[39m\u001b[38;5;124mmaxPriorityFeePerGas\u001b[39m\u001b[38;5;124m\"\u001b[39m: \u001b[38;5;28;01mlambda\u001b[39;00m w3, _tx, _defaults: w3\u001b[38;5;241m.\u001b[39meth\u001b[38;5;241m.\u001b[39mmax_priority_fee,\n\u001b[1;32m     82\u001b[0m     \u001b[38;5;124m\"\u001b[39m\u001b[38;5;124mmaxFeePerGas\u001b[39m\u001b[38;5;124m\"\u001b[39m: (\n\u001b[1;32m     83\u001b[0m         \u001b[38;5;28;01mlambda\u001b[39;00m w3, tx, defaults: (\n\u001b[1;32m     84\u001b[0m             tx\u001b[38;5;241m.\u001b[39mget(\u001b[38;5;124m\"\u001b[39m\u001b[38;5;124mmaxPriorityFeePerGas\u001b[39m\u001b[38;5;124m\"\u001b[39m, defaults\u001b[38;5;241m.\u001b[39mget(\u001b[38;5;124m\"\u001b[39m\u001b[38;5;124mmaxPriorityFeePerGas\u001b[39m\u001b[38;5;124m\"\u001b[39m))\n\u001b[1;32m     85\u001b[0m             \u001b[38;5;241m+\u001b[39m (\u001b[38;5;241m2\u001b[39m \u001b[38;5;241m*\u001b[39m w3\u001b[38;5;241m.\u001b[39meth\u001b[38;5;241m.\u001b[39mget_block(\u001b[38;5;124m\"\u001b[39m\u001b[38;5;124mlatest\u001b[39m\u001b[38;5;124m\"\u001b[39m)[\u001b[38;5;124m\"\u001b[39m\u001b[38;5;124mbaseFeePerGas\u001b[39m\u001b[38;5;124m\"\u001b[39m])\n\u001b[1;32m     86\u001b[0m         )\n\u001b[1;32m     87\u001b[0m     ),\n\u001b[1;32m     88\u001b[0m     \u001b[38;5;124m\"\u001b[39m\u001b[38;5;124mchainId\u001b[39m\u001b[38;5;124m\"\u001b[39m: \u001b[38;5;28;01mlambda\u001b[39;00m w3, _tx, _defaults: w3\u001b[38;5;241m.\u001b[39meth\u001b[38;5;241m.\u001b[39mchain_id,\n\u001b[1;32m     89\u001b[0m }\n\u001b[1;32m     91\u001b[0m \u001b[38;5;28;01mif\u001b[39;00m TYPE_CHECKING:\n\u001b[1;32m     92\u001b[0m     \u001b[38;5;28;01mfrom\u001b[39;00m\u001b[38;5;250m \u001b[39m\u001b[38;5;21;01mweb3\u001b[39;00m\u001b[38;5;250m \u001b[39m\u001b[38;5;28;01mimport\u001b[39;00m (  \u001b[38;5;66;03m# noqa: F401\u001b[39;00m\n\u001b[1;32m     93\u001b[0m         AsyncWeb3,\n\u001b[1;32m     94\u001b[0m         Web3,\n\u001b[1;32m     95\u001b[0m     )\n",
      "File \u001b[0;32m~/Documents/projects/blockhash-oracle/.venv/lib/python3.12/site-packages/web3/eth/eth.py:301\u001b[0m, in \u001b[0;36mEth.estimate_gas\u001b[0;34m(self, transaction, block_identifier, state_override)\u001b[0m\n\u001b[1;32m    295\u001b[0m \u001b[38;5;28;01mdef\u001b[39;00m\u001b[38;5;250m \u001b[39m\u001b[38;5;21mestimate_gas\u001b[39m(\n\u001b[1;32m    296\u001b[0m     \u001b[38;5;28mself\u001b[39m,\n\u001b[1;32m    297\u001b[0m     transaction: TxParams,\n\u001b[1;32m    298\u001b[0m     block_identifier: Optional[BlockIdentifier] \u001b[38;5;241m=\u001b[39m \u001b[38;5;28;01mNone\u001b[39;00m,\n\u001b[1;32m    299\u001b[0m     state_override: Optional[StateOverride] \u001b[38;5;241m=\u001b[39m \u001b[38;5;28;01mNone\u001b[39;00m,\n\u001b[1;32m    300\u001b[0m ) \u001b[38;5;241m-\u001b[39m\u001b[38;5;241m>\u001b[39m \u001b[38;5;28mint\u001b[39m:\n\u001b[0;32m--> 301\u001b[0m     \u001b[38;5;28;01mreturn\u001b[39;00m \u001b[38;5;28;43mself\u001b[39;49m\u001b[38;5;241;43m.\u001b[39;49m\u001b[43m_estimate_gas\u001b[49m\u001b[43m(\u001b[49m\u001b[43mtransaction\u001b[49m\u001b[43m,\u001b[49m\u001b[43m \u001b[49m\u001b[43mblock_identifier\u001b[49m\u001b[43m,\u001b[49m\u001b[43m \u001b[49m\u001b[43mstate_override\u001b[49m\u001b[43m)\u001b[49m\n",
      "File \u001b[0;32m~/Documents/projects/blockhash-oracle/.venv/lib/python3.12/site-packages/web3/module.py:111\u001b[0m, in \u001b[0;36mretrieve_blocking_method_call_fn.<locals>.caller\u001b[0;34m(*args, **kwargs)\u001b[0m\n\u001b[1;32m    104\u001b[0m     \u001b[38;5;28;01mreturn\u001b[39;00m LogFilter(eth_module\u001b[38;5;241m=\u001b[39mmodule, filter_id\u001b[38;5;241m=\u001b[39merr\u001b[38;5;241m.\u001b[39mfilter_id)\n\u001b[1;32m    106\u001b[0m (\n\u001b[1;32m    107\u001b[0m     result_formatters,\n\u001b[1;32m    108\u001b[0m     error_formatters,\n\u001b[1;32m    109\u001b[0m     null_result_formatters,\n\u001b[1;32m    110\u001b[0m ) \u001b[38;5;241m=\u001b[39m response_formatters\n\u001b[0;32m--> 111\u001b[0m result \u001b[38;5;241m=\u001b[39m \u001b[43mw3\u001b[49m\u001b[38;5;241;43m.\u001b[39;49m\u001b[43mmanager\u001b[49m\u001b[38;5;241;43m.\u001b[39;49m\u001b[43mrequest_blocking\u001b[49m\u001b[43m(\u001b[49m\n\u001b[1;32m    112\u001b[0m \u001b[43m    \u001b[49m\u001b[43mmethod_str\u001b[49m\u001b[43m,\u001b[49m\u001b[43m \u001b[49m\u001b[43mparams\u001b[49m\u001b[43m,\u001b[49m\u001b[43m \u001b[49m\u001b[43merror_formatters\u001b[49m\u001b[43m,\u001b[49m\u001b[43m \u001b[49m\u001b[43mnull_result_formatters\u001b[49m\n\u001b[1;32m    113\u001b[0m \u001b[43m\u001b[49m\u001b[43m)\u001b[49m\n\u001b[1;32m    114\u001b[0m \u001b[38;5;28;01mreturn\u001b[39;00m apply_result_formatters(result_formatters, result)\n",
      "File \u001b[0;32m~/Documents/projects/blockhash-oracle/.venv/lib/python3.12/site-packages/web3/manager.py:401\u001b[0m, in \u001b[0;36mRequestManager.request_blocking\u001b[0;34m(self, method, params, error_formatters, null_result_formatters)\u001b[0m\n\u001b[1;32m    397\u001b[0m \u001b[38;5;250m\u001b[39m\u001b[38;5;124;03m\"\"\"\u001b[39;00m\n\u001b[1;32m    398\u001b[0m \u001b[38;5;124;03mMake a synchronous request using the provider\u001b[39;00m\n\u001b[1;32m    399\u001b[0m \u001b[38;5;124;03m\"\"\"\u001b[39;00m\n\u001b[1;32m    400\u001b[0m response \u001b[38;5;241m=\u001b[39m \u001b[38;5;28mself\u001b[39m\u001b[38;5;241m.\u001b[39m_make_request(method, params)\n\u001b[0;32m--> 401\u001b[0m \u001b[38;5;28;01mreturn\u001b[39;00m \u001b[38;5;28;43mself\u001b[39;49m\u001b[38;5;241;43m.\u001b[39;49m\u001b[43mformatted_response\u001b[49m\u001b[43m(\u001b[49m\n\u001b[1;32m    402\u001b[0m \u001b[43m    \u001b[49m\u001b[43mresponse\u001b[49m\u001b[43m,\u001b[49m\u001b[43m \u001b[49m\u001b[43mparams\u001b[49m\u001b[43m,\u001b[49m\u001b[43m \u001b[49m\u001b[43merror_formatters\u001b[49m\u001b[43m,\u001b[49m\u001b[43m \u001b[49m\u001b[43mnull_result_formatters\u001b[49m\n\u001b[1;32m    403\u001b[0m \u001b[43m\u001b[49m\u001b[43m)\u001b[49m\n",
      "File \u001b[0;32m~/Documents/projects/blockhash-oracle/.venv/lib/python3.12/site-packages/web3/manager.py:367\u001b[0m, in \u001b[0;36mRequestManager.formatted_response\u001b[0;34m(self, response, params, error_formatters, null_result_formatters)\u001b[0m\n\u001b[1;32m    353\u001b[0m \u001b[38;5;28;01mdef\u001b[39;00m\u001b[38;5;250m \u001b[39m\u001b[38;5;21mformatted_response\u001b[39m(\n\u001b[1;32m    354\u001b[0m     \u001b[38;5;28mself\u001b[39m,\n\u001b[1;32m    355\u001b[0m     response: RPCResponse,\n\u001b[0;32m   (...)\u001b[0m\n\u001b[1;32m    358\u001b[0m     null_result_formatters: Optional[Callable[\u001b[38;5;241m.\u001b[39m\u001b[38;5;241m.\u001b[39m\u001b[38;5;241m.\u001b[39m, Any]] \u001b[38;5;241m=\u001b[39m \u001b[38;5;28;01mNone\u001b[39;00m,\n\u001b[1;32m    359\u001b[0m ) \u001b[38;5;241m-\u001b[39m\u001b[38;5;241m>\u001b[39m Any:\n\u001b[1;32m    360\u001b[0m     is_subscription_response \u001b[38;5;241m=\u001b[39m (\n\u001b[1;32m    361\u001b[0m         response\u001b[38;5;241m.\u001b[39mget(\u001b[38;5;124m\"\u001b[39m\u001b[38;5;124mmethod\u001b[39m\u001b[38;5;124m\"\u001b[39m) \u001b[38;5;241m==\u001b[39m \u001b[38;5;124m\"\u001b[39m\u001b[38;5;124meth_subscription\u001b[39m\u001b[38;5;124m\"\u001b[39m\n\u001b[1;32m    362\u001b[0m         \u001b[38;5;129;01mand\u001b[39;00m response\u001b[38;5;241m.\u001b[39mget(\u001b[38;5;124m\"\u001b[39m\u001b[38;5;124mparams\u001b[39m\u001b[38;5;124m\"\u001b[39m) \u001b[38;5;129;01mis\u001b[39;00m \u001b[38;5;129;01mnot\u001b[39;00m \u001b[38;5;28;01mNone\u001b[39;00m\n\u001b[1;32m    363\u001b[0m         \u001b[38;5;129;01mand\u001b[39;00m response[\u001b[38;5;124m\"\u001b[39m\u001b[38;5;124mparams\u001b[39m\u001b[38;5;124m\"\u001b[39m]\u001b[38;5;241m.\u001b[39mget(\u001b[38;5;124m\"\u001b[39m\u001b[38;5;124msubscription\u001b[39m\u001b[38;5;124m\"\u001b[39m) \u001b[38;5;129;01mis\u001b[39;00m \u001b[38;5;129;01mnot\u001b[39;00m \u001b[38;5;28;01mNone\u001b[39;00m\n\u001b[1;32m    364\u001b[0m         \u001b[38;5;129;01mand\u001b[39;00m response[\u001b[38;5;124m\"\u001b[39m\u001b[38;5;124mparams\u001b[39m\u001b[38;5;124m\"\u001b[39m]\u001b[38;5;241m.\u001b[39mget(\u001b[38;5;124m\"\u001b[39m\u001b[38;5;124mresult\u001b[39m\u001b[38;5;124m\"\u001b[39m) \u001b[38;5;129;01mis\u001b[39;00m \u001b[38;5;129;01mnot\u001b[39;00m \u001b[38;5;28;01mNone\u001b[39;00m\n\u001b[1;32m    365\u001b[0m     )\n\u001b[0;32m--> 367\u001b[0m     \u001b[43m_validate_response\u001b[49m\u001b[43m(\u001b[49m\n\u001b[1;32m    368\u001b[0m \u001b[43m        \u001b[49m\u001b[43mresponse\u001b[49m\u001b[43m,\u001b[49m\n\u001b[1;32m    369\u001b[0m \u001b[43m        \u001b[49m\u001b[43merror_formatters\u001b[49m\u001b[43m,\u001b[49m\n\u001b[1;32m    370\u001b[0m \u001b[43m        \u001b[49m\u001b[43mis_subscription_response\u001b[49m\u001b[38;5;241;43m=\u001b[39;49m\u001b[43mis_subscription_response\u001b[49m\u001b[43m,\u001b[49m\n\u001b[1;32m    371\u001b[0m \u001b[43m        \u001b[49m\u001b[43mlogger\u001b[49m\u001b[38;5;241;43m=\u001b[39;49m\u001b[38;5;28;43mself\u001b[39;49m\u001b[38;5;241;43m.\u001b[39;49m\u001b[43mlogger\u001b[49m\u001b[43m,\u001b[49m\n\u001b[1;32m    372\u001b[0m \u001b[43m        \u001b[49m\u001b[43mparams\u001b[49m\u001b[38;5;241;43m=\u001b[39;49m\u001b[43mparams\u001b[49m\u001b[43m,\u001b[49m\n\u001b[1;32m    373\u001b[0m \u001b[43m    \u001b[49m\u001b[43m)\u001b[49m\n\u001b[1;32m    375\u001b[0m     \u001b[38;5;66;03m# format results\u001b[39;00m\n\u001b[1;32m    376\u001b[0m     \u001b[38;5;28;01mif\u001b[39;00m \u001b[38;5;124m\"\u001b[39m\u001b[38;5;124mresult\u001b[39m\u001b[38;5;124m\"\u001b[39m \u001b[38;5;129;01min\u001b[39;00m response:\n\u001b[1;32m    377\u001b[0m         \u001b[38;5;66;03m# Null values for result should apply null_result_formatters\u001b[39;00m\n\u001b[1;32m    378\u001b[0m         \u001b[38;5;66;03m# Skip when result not present in the response (fallback to False)\u001b[39;00m\n",
      "File \u001b[0;32m~/Documents/projects/blockhash-oracle/.venv/lib/python3.12/site-packages/web3/manager.py:257\u001b[0m, in \u001b[0;36m_validate_response\u001b[0;34m(response, error_formatters, is_subscription_response, logger, params)\u001b[0m\n\u001b[1;32m    253\u001b[0m \u001b[38;5;28;01mif\u001b[39;00m web3_rpc_error \u001b[38;5;129;01mis\u001b[39;00m \u001b[38;5;28;01mNone\u001b[39;00m:\n\u001b[1;32m    254\u001b[0m     \u001b[38;5;66;03m# if no condition was met above, raise a more generic `Web3RPCError`\u001b[39;00m\n\u001b[1;32m    255\u001b[0m     web3_rpc_error \u001b[38;5;241m=\u001b[39m Web3RPCError(\u001b[38;5;28mrepr\u001b[39m(error), rpc_response\u001b[38;5;241m=\u001b[39mresponse)\n\u001b[0;32m--> 257\u001b[0m response \u001b[38;5;241m=\u001b[39m \u001b[43mapply_error_formatters\u001b[49m\u001b[43m(\u001b[49m\u001b[43merror_formatters\u001b[49m\u001b[43m,\u001b[49m\u001b[43m \u001b[49m\u001b[43mresponse\u001b[49m\u001b[43m)\u001b[49m\n\u001b[1;32m    259\u001b[0m logger\u001b[38;5;241m.\u001b[39merror(web3_rpc_error\u001b[38;5;241m.\u001b[39muser_message)\n\u001b[1;32m    260\u001b[0m logger\u001b[38;5;241m.\u001b[39mdebug(\u001b[38;5;124mf\u001b[39m\u001b[38;5;124m\"\u001b[39m\u001b[38;5;124mRPC error response: \u001b[39m\u001b[38;5;132;01m{\u001b[39;00mresponse\u001b[38;5;132;01m}\u001b[39;00m\u001b[38;5;124m\"\u001b[39m)\n",
      "File \u001b[0;32m~/Documents/projects/blockhash-oracle/.venv/lib/python3.12/site-packages/web3/manager.py:122\u001b[0m, in \u001b[0;36mapply_error_formatters\u001b[0;34m(error_formatters, response)\u001b[0m\n\u001b[1;32m    117\u001b[0m \u001b[38;5;28;01mdef\u001b[39;00m\u001b[38;5;250m \u001b[39m\u001b[38;5;21mapply_error_formatters\u001b[39m(\n\u001b[1;32m    118\u001b[0m     error_formatters: Callable[\u001b[38;5;241m.\u001b[39m\u001b[38;5;241m.\u001b[39m\u001b[38;5;241m.\u001b[39m, Any],\n\u001b[1;32m    119\u001b[0m     response: RPCResponse,\n\u001b[1;32m    120\u001b[0m ) \u001b[38;5;241m-\u001b[39m\u001b[38;5;241m>\u001b[39m RPCResponse:\n\u001b[1;32m    121\u001b[0m     \u001b[38;5;28;01mif\u001b[39;00m error_formatters:\n\u001b[0;32m--> 122\u001b[0m         formatted_resp \u001b[38;5;241m=\u001b[39m \u001b[43mpipe\u001b[49m\u001b[43m(\u001b[49m\u001b[43mresponse\u001b[49m\u001b[43m,\u001b[49m\u001b[43m \u001b[49m\u001b[43merror_formatters\u001b[49m\u001b[43m)\u001b[49m\n\u001b[1;32m    123\u001b[0m         \u001b[38;5;28;01mreturn\u001b[39;00m formatted_resp\n\u001b[1;32m    124\u001b[0m     \u001b[38;5;28;01melse\u001b[39;00m:\n",
      "File \u001b[0;32m~/Documents/projects/blockhash-oracle/.venv/lib/python3.12/site-packages/cytoolz/functoolz.pyx:685\u001b[0m, in \u001b[0;36mcytoolz.functoolz.pipe\u001b[0;34m()\u001b[0m\n",
      "File \u001b[0;32m~/Documents/projects/blockhash-oracle/.venv/lib/python3.12/site-packages/cytoolz/functoolz.pyx:660\u001b[0m, in \u001b[0;36mcytoolz.functoolz.c_pipe\u001b[0;34m()\u001b[0m\n",
      "File \u001b[0;32m~/Documents/projects/blockhash-oracle/.venv/lib/python3.12/site-packages/web3/_utils/error_formatters_utils.py:160\u001b[0m, in \u001b[0;36mraise_contract_logic_error_on_revert\u001b[0;34m(response)\u001b[0m\n\u001b[1;32m    158\u001b[0m     \u001b[38;5;28;01mraise\u001b[39;00m ContractLogicError(\u001b[38;5;124mf\u001b[39m\u001b[38;5;124m\"\u001b[39m\u001b[38;5;124mexecution reverted: \u001b[39m\u001b[38;5;132;01m{\u001b[39;00mmessage\u001b[38;5;132;01m}\u001b[39;00m\u001b[38;5;124m\"\u001b[39m, data\u001b[38;5;241m=\u001b[39mdata)\n\u001b[1;32m    159\u001b[0m \u001b[38;5;28;01melif\u001b[39;00m \u001b[38;5;28misinstance\u001b[39m(data, \u001b[38;5;28mstr\u001b[39m):\n\u001b[0;32m--> 160\u001b[0m     \u001b[43m_raise_contract_error\u001b[49m\u001b[43m(\u001b[49m\u001b[43mdata\u001b[49m\u001b[43m)\u001b[49m\n\u001b[1;32m    162\u001b[0m \u001b[38;5;28;01mif\u001b[39;00m message_present:\n\u001b[1;32m    163\u001b[0m     \u001b[38;5;66;03m# Geth Revert with error message and code 3 case:\u001b[39;00m\n\u001b[1;32m    164\u001b[0m     \u001b[38;5;28;01mif\u001b[39;00m error\u001b[38;5;241m.\u001b[39mget(\u001b[38;5;124m\"\u001b[39m\u001b[38;5;124mcode\u001b[39m\u001b[38;5;124m\"\u001b[39m) \u001b[38;5;241m==\u001b[39m \u001b[38;5;241m3\u001b[39m:\n",
      "File \u001b[0;32m~/Documents/projects/blockhash-oracle/.venv/lib/python3.12/site-packages/web3/_utils/error_formatters_utils.py:132\u001b[0m, in \u001b[0;36m_raise_contract_error\u001b[0;34m(response_error_data)\u001b[0m\n\u001b[1;32m    122\u001b[0m \u001b[38;5;66;03m# Solidity 0.8.4 introduced custom error messages that allow args to\u001b[39;00m\n\u001b[1;32m    123\u001b[0m \u001b[38;5;66;03m# be passed in (or not). See:\u001b[39;00m\n\u001b[1;32m    124\u001b[0m \u001b[38;5;66;03m# https://blog.soliditylang.org/2021/04/21/custom-errors/\u001b[39;00m\n\u001b[1;32m    125\u001b[0m \u001b[38;5;28;01melif\u001b[39;00m (\n\u001b[1;32m    126\u001b[0m     \u001b[38;5;28mlen\u001b[39m(response_error_data) \u001b[38;5;241m>\u001b[39m\u001b[38;5;241m=\u001b[39m \u001b[38;5;241m10\u001b[39m\n\u001b[1;32m    127\u001b[0m     \u001b[38;5;129;01mand\u001b[39;00m \u001b[38;5;129;01mnot\u001b[39;00m response_error_data[:\u001b[38;5;241m10\u001b[39m] \u001b[38;5;241m==\u001b[39m SOLIDITY_ERROR_FUNC_SELECTOR\n\u001b[0;32m   (...)\u001b[0m\n\u001b[1;32m    130\u001b[0m     \u001b[38;5;66;03m# compatibility and so that data can be accessed via 'data' attribute\u001b[39;00m\n\u001b[1;32m    131\u001b[0m     \u001b[38;5;66;03m# on the ContractCustomError exception\u001b[39;00m\n\u001b[0;32m--> 132\u001b[0m     \u001b[38;5;28;01mraise\u001b[39;00m ContractCustomError(response_error_data, data\u001b[38;5;241m=\u001b[39mresponse_error_data)\n",
      "\u001b[0;31mContractCustomError\u001b[0m: ('0xd0ecb66b', '0xd0ecb66b')"
     ]
    }
   ],
   "source": [
    "# send lib\n",
    "for key in state_dict.keys():\n",
    "    if key == main_chain:\n",
    "        continue\n",
    "    with boa.swap_env(state_dict[key]['boa']):\n",
    "        func = state_dict[key]['messenger_w3'].functions.set_lz_send_lib(state_dict[key]['eid'], state_dict[key]['send_lib'])\n",
    "        tx_hash = send_tx(state_dict[key]['w3'], func, account)\n",
    "        print(f\"Added send lib: {tx_hash.hex()} on {key}\")\n",
    "\n",
    "# receive lib\n",
    "for key in state_dict.keys():\n",
    "    if key == main_chain:\n",
    "        continue\n",
    "    with boa.swap_env(state_dict[key]['boa']):\n",
    "        func = state_dict[key]['messenger_w3'].functions.set_lz_receive_lib(state_dict[key]['eid'], state_dict[key]['receive_lib'])\n",
    "        tx_hash = send_tx(state_dict[key]['w3'], func, account)\n",
    "        print(f\"Added receive lib: {tx_hash.hex()} on {key}\")\n"
   ]
  },
  {
   "cell_type": "code",
   "execution_count": null,
   "id": "12",
   "metadata": {},
   "outputs": [
    {
     "name": "stdout",
     "output_type": "stream",
     "text": [
      "Read lib type: 2\n",
      "Read lib version: [10, 0, 2]\n",
      "Supports 4294967295: True\n",
      "Supports 4294967294: False\n",
      "Read Channel: 4294967295\n"
     ]
    },
    {
     "ename": "ContractCustomError",
     "evalue": "('0xa4ff2ec3', '0xa4ff2ec3')",
     "output_type": "error",
     "traceback": [
      "\u001b[0;31m---------------------------------------------------------------------------\u001b[0m",
      "\u001b[0;31mContractCustomError\u001b[0m                       Traceback (most recent call last)",
      "Cell \u001b[0;32mIn[77], line 31\u001b[0m\n\u001b[1;32m     29\u001b[0m \u001b[38;5;28mprint\u001b[39m(\u001b[38;5;124mf\u001b[39m\u001b[38;5;124m\"\u001b[39m\u001b[38;5;124mRead Channel: \u001b[39m\u001b[38;5;132;01m{\u001b[39;00mread_channel\u001b[38;5;132;01m}\u001b[39;00m\u001b[38;5;124m\"\u001b[39m)\n\u001b[1;32m     30\u001b[0m func \u001b[38;5;241m=\u001b[39m state_dict[key][\u001b[38;5;124m'\u001b[39m\u001b[38;5;124mmessenger_w3\u001b[39m\u001b[38;5;124m'\u001b[39m]\u001b[38;5;241m.\u001b[39mfunctions\u001b[38;5;241m.\u001b[39mset_lz_send_lib(read_channel, READ_LIB)\n\u001b[0;32m---> 31\u001b[0m tx_hash3 \u001b[38;5;241m=\u001b[39m \u001b[43msend_tx\u001b[49m\u001b[43m(\u001b[49m\u001b[43mstate_dict\u001b[49m\u001b[43m[\u001b[49m\u001b[43mkey\u001b[49m\u001b[43m]\u001b[49m\u001b[43m[\u001b[49m\u001b[38;5;124;43m'\u001b[39;49m\u001b[38;5;124;43mw3\u001b[39;49m\u001b[38;5;124;43m'\u001b[39;49m\u001b[43m]\u001b[49m\u001b[43m,\u001b[49m\u001b[43m \u001b[49m\u001b[43mfunc\u001b[49m\u001b[43m,\u001b[49m\u001b[43m \u001b[49m\u001b[43maccount\u001b[49m\u001b[43m)\u001b[49m\n\u001b[1;32m     32\u001b[0m \u001b[38;5;28mprint\u001b[39m(\u001b[38;5;124mf\u001b[39m\u001b[38;5;124m\"\u001b[39m\u001b[38;5;124mAdded read lib: \u001b[39m\u001b[38;5;132;01m{\u001b[39;00mtx_hash3\u001b[38;5;241m.\u001b[39mhex()\u001b[38;5;132;01m}\u001b[39;00m\u001b[38;5;124m\"\u001b[39m)\n\u001b[1;32m     34\u001b[0m \u001b[38;5;66;03m# # receive direction\u001b[39;00m\n\u001b[1;32m     35\u001b[0m \u001b[38;5;66;03m# func = state_dict[key]['messenger_w3'].functions.set_lz_receive_lib(read_channel, READ_LIB)\u001b[39;00m\n\u001b[1;32m     36\u001b[0m \u001b[38;5;66;03m# tx_hash4 = send_tx(func, account)\u001b[39;00m\n\u001b[1;32m     37\u001b[0m \u001b[38;5;66;03m# print(f\"Added receive lib: {tx_hash4.hex()}\")\u001b[39;00m\n",
      "Cell \u001b[0;32mIn[65], line 48\u001b[0m, in \u001b[0;36msend_tx\u001b[0;34m(w3, func, acc, value)\u001b[0m\n\u001b[1;32m     46\u001b[0m             time\u001b[38;5;241m.\u001b[39msleep(\u001b[38;5;241m0.5\u001b[39m)\n\u001b[1;32m     47\u001b[0m         \u001b[38;5;28;01melse\u001b[39;00m:\n\u001b[0;32m---> 48\u001b[0m             \u001b[38;5;28;01mraise\u001b[39;00m e\n\u001b[1;32m     49\u001b[0m \u001b[38;5;28;01mreturn\u001b[39;00m tx_hash\n",
      "Cell \u001b[0;32mIn[65], line 40\u001b[0m, in \u001b[0;36msend_tx\u001b[0;34m(w3, func, acc, value)\u001b[0m\n\u001b[1;32m     38\u001b[0m \u001b[38;5;28;01mwhile\u001b[39;00m \u001b[38;5;129;01mnot\u001b[39;00m success:\n\u001b[1;32m     39\u001b[0m     \u001b[38;5;28;01mtry\u001b[39;00m:\n\u001b[0;32m---> 40\u001b[0m         tx_hash \u001b[38;5;241m=\u001b[39m \u001b[43msend_tx_single\u001b[49m\u001b[43m(\u001b[49m\u001b[43mw3\u001b[49m\u001b[43m,\u001b[49m\u001b[43m \u001b[49m\u001b[43mfunc\u001b[49m\u001b[43m,\u001b[49m\u001b[43m \u001b[49m\u001b[43macc\u001b[49m\u001b[43m,\u001b[49m\u001b[43m \u001b[49m\u001b[43mvalue\u001b[49m\u001b[43m)\u001b[49m\n\u001b[1;32m     41\u001b[0m         success \u001b[38;5;241m=\u001b[39m \u001b[38;5;28;01mTrue\u001b[39;00m\n\u001b[1;32m     42\u001b[0m     \u001b[38;5;28;01mexcept\u001b[39;00m \u001b[38;5;167;01mException\u001b[39;00m \u001b[38;5;28;01mas\u001b[39;00m e:\n",
      "Cell \u001b[0;32mIn[65], line 23\u001b[0m, in \u001b[0;36msend_tx_single\u001b[0;34m(w3, func, acc, value)\u001b[0m\n\u001b[1;32m     22\u001b[0m \u001b[38;5;28;01mdef\u001b[39;00m\u001b[38;5;250m \u001b[39m\u001b[38;5;21msend_tx_single\u001b[39m(w3, func, acc, value\u001b[38;5;241m=\u001b[39m\u001b[38;5;241m0\u001b[39m):\n\u001b[0;32m---> 23\u001b[0m     tx \u001b[38;5;241m=\u001b[39m \u001b[43mfunc\u001b[49m\u001b[38;5;241;43m.\u001b[39;49m\u001b[43mbuild_transaction\u001b[49m\u001b[43m(\u001b[49m\n\u001b[1;32m     24\u001b[0m \u001b[43m        \u001b[49m\u001b[43m{\u001b[49m\n\u001b[1;32m     25\u001b[0m \u001b[43m            \u001b[49m\u001b[38;5;124;43m\"\u001b[39;49m\u001b[38;5;124;43mfrom\u001b[39;49m\u001b[38;5;124;43m\"\u001b[39;49m\u001b[43m:\u001b[49m\u001b[43m \u001b[49m\u001b[43maccount\u001b[49m\u001b[38;5;241;43m.\u001b[39;49m\u001b[43maddress\u001b[49m\u001b[43m,\u001b[49m\n\u001b[1;32m     26\u001b[0m \u001b[43m            \u001b[49m\u001b[38;5;124;43m\"\u001b[39;49m\u001b[38;5;124;43mnonce\u001b[39;49m\u001b[38;5;124;43m\"\u001b[39;49m\u001b[43m:\u001b[49m\u001b[43m \u001b[49m\u001b[43mw3\u001b[49m\u001b[38;5;241;43m.\u001b[39;49m\u001b[43meth\u001b[49m\u001b[38;5;241;43m.\u001b[39;49m\u001b[43mget_transaction_count\u001b[49m\u001b[43m(\u001b[49m\u001b[43maccount\u001b[49m\u001b[38;5;241;43m.\u001b[39;49m\u001b[43maddress\u001b[49m\u001b[43m)\u001b[49m\u001b[43m,\u001b[49m\n\u001b[1;32m     27\u001b[0m \u001b[43m            \u001b[49m\u001b[38;5;124;43m\"\u001b[39;49m\u001b[38;5;124;43mvalue\u001b[39;49m\u001b[38;5;124;43m\"\u001b[39;49m\u001b[43m:\u001b[49m\u001b[43m \u001b[49m\u001b[43mvalue\u001b[49m\u001b[43m,\u001b[49m\n\u001b[1;32m     28\u001b[0m \u001b[43m        \u001b[49m\u001b[43m}\u001b[49m\n\u001b[1;32m     29\u001b[0m \u001b[43m    \u001b[49m\u001b[43m)\u001b[49m\n\u001b[1;32m     30\u001b[0m     tx[\u001b[38;5;124m\"\u001b[39m\u001b[38;5;124mgas\u001b[39m\u001b[38;5;124m\"\u001b[39m] \u001b[38;5;241m=\u001b[39m \u001b[38;5;28mint\u001b[39m(\u001b[38;5;241m5\u001b[39m \u001b[38;5;241m*\u001b[39m w3\u001b[38;5;241m.\u001b[39meth\u001b[38;5;241m.\u001b[39mestimate_gas(tx))\n\u001b[1;32m     31\u001b[0m     signed_tx \u001b[38;5;241m=\u001b[39m w3\u001b[38;5;241m.\u001b[39meth\u001b[38;5;241m.\u001b[39maccount\u001b[38;5;241m.\u001b[39msign_transaction(tx, private_key\u001b[38;5;241m=\u001b[39maccount\u001b[38;5;241m.\u001b[39mkey)\n",
      "File \u001b[0;32m~/Documents/projects/blockhash-oracle/.venv/lib/python3.12/site-packages/web3/contract/contract.py:510\u001b[0m, in \u001b[0;36mContractFunction.build_transaction\u001b[0;34m(self, transaction)\u001b[0m\n\u001b[1;32m    507\u001b[0m built_transaction \u001b[38;5;241m=\u001b[39m \u001b[38;5;28mself\u001b[39m\u001b[38;5;241m.\u001b[39m_build_transaction(transaction)\n\u001b[1;32m    508\u001b[0m abi_element_identifier \u001b[38;5;241m=\u001b[39m abi_to_signature(\u001b[38;5;28mself\u001b[39m\u001b[38;5;241m.\u001b[39mabi)\n\u001b[0;32m--> 510\u001b[0m \u001b[38;5;28;01mreturn\u001b[39;00m \u001b[43mbuild_transaction_for_function\u001b[49m\u001b[43m(\u001b[49m\n\u001b[1;32m    511\u001b[0m \u001b[43m    \u001b[49m\u001b[38;5;28;43mself\u001b[39;49m\u001b[38;5;241;43m.\u001b[39;49m\u001b[43maddress\u001b[49m\u001b[43m,\u001b[49m\n\u001b[1;32m    512\u001b[0m \u001b[43m    \u001b[49m\u001b[38;5;28;43mself\u001b[39;49m\u001b[38;5;241;43m.\u001b[39;49m\u001b[43mw3\u001b[49m\u001b[43m,\u001b[49m\n\u001b[1;32m    513\u001b[0m \u001b[43m    \u001b[49m\u001b[43mabi_element_identifier\u001b[49m\u001b[43m,\u001b[49m\n\u001b[1;32m    514\u001b[0m \u001b[43m    \u001b[49m\u001b[43mbuilt_transaction\u001b[49m\u001b[43m,\u001b[49m\n\u001b[1;32m    515\u001b[0m \u001b[43m    \u001b[49m\u001b[38;5;28;43mself\u001b[39;49m\u001b[38;5;241;43m.\u001b[39;49m\u001b[43mcontract_abi\u001b[49m\u001b[43m,\u001b[49m\n\u001b[1;32m    516\u001b[0m \u001b[43m    \u001b[49m\u001b[38;5;28;43mself\u001b[39;49m\u001b[38;5;241;43m.\u001b[39;49m\u001b[43mabi\u001b[49m\u001b[43m,\u001b[49m\n\u001b[1;32m    517\u001b[0m \u001b[43m    \u001b[49m\u001b[38;5;241;43m*\u001b[39;49m\u001b[38;5;28;43mself\u001b[39;49m\u001b[38;5;241;43m.\u001b[39;49m\u001b[43margs\u001b[49m\u001b[43m \u001b[49m\u001b[38;5;129;43;01mor\u001b[39;49;00m\u001b[43m \u001b[49m\u001b[43m(\u001b[49m\u001b[43m)\u001b[49m\u001b[43m,\u001b[49m\n\u001b[1;32m    518\u001b[0m \u001b[43m    \u001b[49m\u001b[38;5;241;43m*\u001b[39;49m\u001b[38;5;241;43m*\u001b[39;49m\u001b[38;5;28;43mself\u001b[39;49m\u001b[38;5;241;43m.\u001b[39;49m\u001b[43mkwargs\u001b[49m\u001b[43m \u001b[49m\u001b[38;5;129;43;01mor\u001b[39;49;00m\u001b[43m \u001b[49m\u001b[43m{\u001b[49m\u001b[43m}\u001b[49m\u001b[43m,\u001b[49m\n\u001b[1;32m    519\u001b[0m \u001b[43m\u001b[49m\u001b[43m)\u001b[49m\n",
      "File \u001b[0;32m~/Documents/projects/blockhash-oracle/.venv/lib/python3.12/site-packages/web3/contract/utils.py:331\u001b[0m, in \u001b[0;36mbuild_transaction_for_function\u001b[0;34m(address, w3, abi_element_identifier, transaction, contract_abi, fn_abi, *args, **kwargs)\u001b[0m\n\u001b[1;32m    314\u001b[0m \u001b[38;5;250m\u001b[39m\u001b[38;5;124;03m\"\"\"\u001b[39;00m\n\u001b[1;32m    315\u001b[0m \u001b[38;5;124;03mBuilds a dictionary with the fields required to make the given transaction\u001b[39;00m\n\u001b[1;32m    316\u001b[0m \n\u001b[1;32m    317\u001b[0m \u001b[38;5;124;03mDon't call this directly, instead use :meth:`Contract.build_transaction`\u001b[39;00m\n\u001b[1;32m    318\u001b[0m \u001b[38;5;124;03mon your contract instance.\u001b[39;00m\n\u001b[1;32m    319\u001b[0m \u001b[38;5;124;03m\"\"\"\u001b[39;00m\n\u001b[1;32m    320\u001b[0m prepared_transaction \u001b[38;5;241m=\u001b[39m prepare_transaction(\n\u001b[1;32m    321\u001b[0m     address,\n\u001b[1;32m    322\u001b[0m     w3,\n\u001b[0;32m   (...)\u001b[0m\n\u001b[1;32m    328\u001b[0m     fn_kwargs\u001b[38;5;241m=\u001b[39mkwargs,\n\u001b[1;32m    329\u001b[0m )\n\u001b[0;32m--> 331\u001b[0m prepared_transaction \u001b[38;5;241m=\u001b[39m \u001b[43mfill_transaction_defaults\u001b[49m\u001b[43m(\u001b[49m\u001b[43mw3\u001b[49m\u001b[43m,\u001b[49m\u001b[43m \u001b[49m\u001b[43mprepared_transaction\u001b[49m\u001b[43m)\u001b[49m\n\u001b[1;32m    333\u001b[0m \u001b[38;5;28;01mreturn\u001b[39;00m prepared_transaction\n",
      "File \u001b[0;32m~/Documents/projects/blockhash-oracle/.venv/lib/python3.12/site-packages/cytoolz/functoolz.pyx:268\u001b[0m, in \u001b[0;36mcytoolz.functoolz.curry.__call__\u001b[0;34m()\u001b[0m\n",
      "File \u001b[0;32m~/Documents/projects/blockhash-oracle/.venv/lib/python3.12/site-packages/web3/_utils/transactions.py:141\u001b[0m, in \u001b[0;36mfill_transaction_defaults\u001b[0;34m(w3, transaction)\u001b[0m\n\u001b[1;32m    137\u001b[0m     \u001b[38;5;28;01mif\u001b[39;00m w3 \u001b[38;5;129;01mis\u001b[39;00m \u001b[38;5;28;01mNone\u001b[39;00m:\n\u001b[1;32m    138\u001b[0m         \u001b[38;5;28;01mraise\u001b[39;00m Web3ValueError(\n\u001b[1;32m    139\u001b[0m             \u001b[38;5;124mf\u001b[39m\u001b[38;5;124m\"\u001b[39m\u001b[38;5;124mYou must specify a \u001b[39m\u001b[38;5;124m'\u001b[39m\u001b[38;5;132;01m{\u001b[39;00mkey\u001b[38;5;132;01m}\u001b[39;00m\u001b[38;5;124m'\u001b[39m\u001b[38;5;124m value in the transaction\u001b[39m\u001b[38;5;124m\"\u001b[39m\n\u001b[1;32m    140\u001b[0m         )\n\u001b[0;32m--> 141\u001b[0m     default_val \u001b[38;5;241m=\u001b[39m \u001b[43mdefault_getter\u001b[49m\u001b[43m(\u001b[49m\u001b[43mw3\u001b[49m\u001b[43m,\u001b[49m\u001b[43m \u001b[49m\u001b[43mtransaction\u001b[49m\u001b[43m,\u001b[49m\u001b[43m \u001b[49m\u001b[43mdefaults\u001b[49m\u001b[43m)\u001b[49m\n\u001b[1;32m    142\u001b[0m \u001b[38;5;28;01melse\u001b[39;00m:\n\u001b[1;32m    143\u001b[0m     default_val \u001b[38;5;241m=\u001b[39m default_getter\n",
      "File \u001b[0;32m~/Documents/projects/blockhash-oracle/.venv/lib/python3.12/site-packages/web3/_utils/transactions.py:79\u001b[0m, in \u001b[0;36m<lambda>\u001b[0;34m(w3, tx, _defaults)\u001b[0m\n\u001b[1;32m     42\u001b[0m TX_PARAM_LITERALS \u001b[38;5;241m=\u001b[39m Literal[\n\u001b[1;32m     43\u001b[0m     \u001b[38;5;124m\"\u001b[39m\u001b[38;5;124mtype\u001b[39m\u001b[38;5;124m\"\u001b[39m,\n\u001b[1;32m     44\u001b[0m     \u001b[38;5;124m\"\u001b[39m\u001b[38;5;124mfrom\u001b[39m\u001b[38;5;124m\"\u001b[39m,\n\u001b[0;32m   (...)\u001b[0m\n\u001b[1;32m     56\u001b[0m     \u001b[38;5;124m\"\u001b[39m\u001b[38;5;124mblobVersionedHashes\u001b[39m\u001b[38;5;124m\"\u001b[39m,\n\u001b[1;32m     57\u001b[0m ]\n\u001b[1;32m     59\u001b[0m VALID_TRANSACTION_PARAMS: List[TX_PARAM_LITERALS] \u001b[38;5;241m=\u001b[39m [\n\u001b[1;32m     60\u001b[0m     \u001b[38;5;124m\"\u001b[39m\u001b[38;5;124mtype\u001b[39m\u001b[38;5;124m\"\u001b[39m,\n\u001b[1;32m     61\u001b[0m     \u001b[38;5;124m\"\u001b[39m\u001b[38;5;124mfrom\u001b[39m\u001b[38;5;124m\"\u001b[39m,\n\u001b[0;32m   (...)\u001b[0m\n\u001b[1;32m     73\u001b[0m     \u001b[38;5;124m\"\u001b[39m\u001b[38;5;124mblobVersionedHashes\u001b[39m\u001b[38;5;124m\"\u001b[39m,\n\u001b[1;32m     74\u001b[0m ]\n\u001b[1;32m     76\u001b[0m TRANSACTION_DEFAULTS \u001b[38;5;241m=\u001b[39m {\n\u001b[1;32m     77\u001b[0m     \u001b[38;5;124m\"\u001b[39m\u001b[38;5;124mvalue\u001b[39m\u001b[38;5;124m\"\u001b[39m: \u001b[38;5;241m0\u001b[39m,\n\u001b[1;32m     78\u001b[0m     \u001b[38;5;124m\"\u001b[39m\u001b[38;5;124mdata\u001b[39m\u001b[38;5;124m\"\u001b[39m: \u001b[38;5;124mb\u001b[39m\u001b[38;5;124m\"\u001b[39m\u001b[38;5;124m\"\u001b[39m,\n\u001b[0;32m---> 79\u001b[0m     \u001b[38;5;124m\"\u001b[39m\u001b[38;5;124mgas\u001b[39m\u001b[38;5;124m\"\u001b[39m: \u001b[38;5;28;01mlambda\u001b[39;00m w3, tx, _defaults: \u001b[43mw3\u001b[49m\u001b[38;5;241;43m.\u001b[39;49m\u001b[43meth\u001b[49m\u001b[38;5;241;43m.\u001b[39;49m\u001b[43mestimate_gas\u001b[49m\u001b[43m(\u001b[49m\u001b[43mtx\u001b[49m\u001b[43m)\u001b[49m,\n\u001b[1;32m     80\u001b[0m     \u001b[38;5;124m\"\u001b[39m\u001b[38;5;124mgasPrice\u001b[39m\u001b[38;5;124m\"\u001b[39m: \u001b[38;5;28;01mlambda\u001b[39;00m w3, tx, _defaults: w3\u001b[38;5;241m.\u001b[39meth\u001b[38;5;241m.\u001b[39mgenerate_gas_price(tx),\n\u001b[1;32m     81\u001b[0m     \u001b[38;5;124m\"\u001b[39m\u001b[38;5;124mmaxPriorityFeePerGas\u001b[39m\u001b[38;5;124m\"\u001b[39m: \u001b[38;5;28;01mlambda\u001b[39;00m w3, _tx, _defaults: w3\u001b[38;5;241m.\u001b[39meth\u001b[38;5;241m.\u001b[39mmax_priority_fee,\n\u001b[1;32m     82\u001b[0m     \u001b[38;5;124m\"\u001b[39m\u001b[38;5;124mmaxFeePerGas\u001b[39m\u001b[38;5;124m\"\u001b[39m: (\n\u001b[1;32m     83\u001b[0m         \u001b[38;5;28;01mlambda\u001b[39;00m w3, tx, defaults: (\n\u001b[1;32m     84\u001b[0m             tx\u001b[38;5;241m.\u001b[39mget(\u001b[38;5;124m\"\u001b[39m\u001b[38;5;124mmaxPriorityFeePerGas\u001b[39m\u001b[38;5;124m\"\u001b[39m, defaults\u001b[38;5;241m.\u001b[39mget(\u001b[38;5;124m\"\u001b[39m\u001b[38;5;124mmaxPriorityFeePerGas\u001b[39m\u001b[38;5;124m\"\u001b[39m))\n\u001b[1;32m     85\u001b[0m             \u001b[38;5;241m+\u001b[39m (\u001b[38;5;241m2\u001b[39m \u001b[38;5;241m*\u001b[39m w3\u001b[38;5;241m.\u001b[39meth\u001b[38;5;241m.\u001b[39mget_block(\u001b[38;5;124m\"\u001b[39m\u001b[38;5;124mlatest\u001b[39m\u001b[38;5;124m\"\u001b[39m)[\u001b[38;5;124m\"\u001b[39m\u001b[38;5;124mbaseFeePerGas\u001b[39m\u001b[38;5;124m\"\u001b[39m])\n\u001b[1;32m     86\u001b[0m         )\n\u001b[1;32m     87\u001b[0m     ),\n\u001b[1;32m     88\u001b[0m     \u001b[38;5;124m\"\u001b[39m\u001b[38;5;124mchainId\u001b[39m\u001b[38;5;124m\"\u001b[39m: \u001b[38;5;28;01mlambda\u001b[39;00m w3, _tx, _defaults: w3\u001b[38;5;241m.\u001b[39meth\u001b[38;5;241m.\u001b[39mchain_id,\n\u001b[1;32m     89\u001b[0m }\n\u001b[1;32m     91\u001b[0m \u001b[38;5;28;01mif\u001b[39;00m TYPE_CHECKING:\n\u001b[1;32m     92\u001b[0m     \u001b[38;5;28;01mfrom\u001b[39;00m\u001b[38;5;250m \u001b[39m\u001b[38;5;21;01mweb3\u001b[39;00m\u001b[38;5;250m \u001b[39m\u001b[38;5;28;01mimport\u001b[39;00m (  \u001b[38;5;66;03m# noqa: F401\u001b[39;00m\n\u001b[1;32m     93\u001b[0m         AsyncWeb3,\n\u001b[1;32m     94\u001b[0m         Web3,\n\u001b[1;32m     95\u001b[0m     )\n",
      "File \u001b[0;32m~/Documents/projects/blockhash-oracle/.venv/lib/python3.12/site-packages/web3/eth/eth.py:301\u001b[0m, in \u001b[0;36mEth.estimate_gas\u001b[0;34m(self, transaction, block_identifier, state_override)\u001b[0m\n\u001b[1;32m    295\u001b[0m \u001b[38;5;28;01mdef\u001b[39;00m\u001b[38;5;250m \u001b[39m\u001b[38;5;21mestimate_gas\u001b[39m(\n\u001b[1;32m    296\u001b[0m     \u001b[38;5;28mself\u001b[39m,\n\u001b[1;32m    297\u001b[0m     transaction: TxParams,\n\u001b[1;32m    298\u001b[0m     block_identifier: Optional[BlockIdentifier] \u001b[38;5;241m=\u001b[39m \u001b[38;5;28;01mNone\u001b[39;00m,\n\u001b[1;32m    299\u001b[0m     state_override: Optional[StateOverride] \u001b[38;5;241m=\u001b[39m \u001b[38;5;28;01mNone\u001b[39;00m,\n\u001b[1;32m    300\u001b[0m ) \u001b[38;5;241m-\u001b[39m\u001b[38;5;241m>\u001b[39m \u001b[38;5;28mint\u001b[39m:\n\u001b[0;32m--> 301\u001b[0m     \u001b[38;5;28;01mreturn\u001b[39;00m \u001b[38;5;28;43mself\u001b[39;49m\u001b[38;5;241;43m.\u001b[39;49m\u001b[43m_estimate_gas\u001b[49m\u001b[43m(\u001b[49m\u001b[43mtransaction\u001b[49m\u001b[43m,\u001b[49m\u001b[43m \u001b[49m\u001b[43mblock_identifier\u001b[49m\u001b[43m,\u001b[49m\u001b[43m \u001b[49m\u001b[43mstate_override\u001b[49m\u001b[43m)\u001b[49m\n",
      "File \u001b[0;32m~/Documents/projects/blockhash-oracle/.venv/lib/python3.12/site-packages/web3/module.py:111\u001b[0m, in \u001b[0;36mretrieve_blocking_method_call_fn.<locals>.caller\u001b[0;34m(*args, **kwargs)\u001b[0m\n\u001b[1;32m    104\u001b[0m     \u001b[38;5;28;01mreturn\u001b[39;00m LogFilter(eth_module\u001b[38;5;241m=\u001b[39mmodule, filter_id\u001b[38;5;241m=\u001b[39merr\u001b[38;5;241m.\u001b[39mfilter_id)\n\u001b[1;32m    106\u001b[0m (\n\u001b[1;32m    107\u001b[0m     result_formatters,\n\u001b[1;32m    108\u001b[0m     error_formatters,\n\u001b[1;32m    109\u001b[0m     null_result_formatters,\n\u001b[1;32m    110\u001b[0m ) \u001b[38;5;241m=\u001b[39m response_formatters\n\u001b[0;32m--> 111\u001b[0m result \u001b[38;5;241m=\u001b[39m \u001b[43mw3\u001b[49m\u001b[38;5;241;43m.\u001b[39;49m\u001b[43mmanager\u001b[49m\u001b[38;5;241;43m.\u001b[39;49m\u001b[43mrequest_blocking\u001b[49m\u001b[43m(\u001b[49m\n\u001b[1;32m    112\u001b[0m \u001b[43m    \u001b[49m\u001b[43mmethod_str\u001b[49m\u001b[43m,\u001b[49m\u001b[43m \u001b[49m\u001b[43mparams\u001b[49m\u001b[43m,\u001b[49m\u001b[43m \u001b[49m\u001b[43merror_formatters\u001b[49m\u001b[43m,\u001b[49m\u001b[43m \u001b[49m\u001b[43mnull_result_formatters\u001b[49m\n\u001b[1;32m    113\u001b[0m \u001b[43m\u001b[49m\u001b[43m)\u001b[49m\n\u001b[1;32m    114\u001b[0m \u001b[38;5;28;01mreturn\u001b[39;00m apply_result_formatters(result_formatters, result)\n",
      "File \u001b[0;32m~/Documents/projects/blockhash-oracle/.venv/lib/python3.12/site-packages/web3/manager.py:401\u001b[0m, in \u001b[0;36mRequestManager.request_blocking\u001b[0;34m(self, method, params, error_formatters, null_result_formatters)\u001b[0m\n\u001b[1;32m    397\u001b[0m \u001b[38;5;250m\u001b[39m\u001b[38;5;124;03m\"\"\"\u001b[39;00m\n\u001b[1;32m    398\u001b[0m \u001b[38;5;124;03mMake a synchronous request using the provider\u001b[39;00m\n\u001b[1;32m    399\u001b[0m \u001b[38;5;124;03m\"\"\"\u001b[39;00m\n\u001b[1;32m    400\u001b[0m response \u001b[38;5;241m=\u001b[39m \u001b[38;5;28mself\u001b[39m\u001b[38;5;241m.\u001b[39m_make_request(method, params)\n\u001b[0;32m--> 401\u001b[0m \u001b[38;5;28;01mreturn\u001b[39;00m \u001b[38;5;28;43mself\u001b[39;49m\u001b[38;5;241;43m.\u001b[39;49m\u001b[43mformatted_response\u001b[49m\u001b[43m(\u001b[49m\n\u001b[1;32m    402\u001b[0m \u001b[43m    \u001b[49m\u001b[43mresponse\u001b[49m\u001b[43m,\u001b[49m\u001b[43m \u001b[49m\u001b[43mparams\u001b[49m\u001b[43m,\u001b[49m\u001b[43m \u001b[49m\u001b[43merror_formatters\u001b[49m\u001b[43m,\u001b[49m\u001b[43m \u001b[49m\u001b[43mnull_result_formatters\u001b[49m\n\u001b[1;32m    403\u001b[0m \u001b[43m\u001b[49m\u001b[43m)\u001b[49m\n",
      "File \u001b[0;32m~/Documents/projects/blockhash-oracle/.venv/lib/python3.12/site-packages/web3/manager.py:367\u001b[0m, in \u001b[0;36mRequestManager.formatted_response\u001b[0;34m(self, response, params, error_formatters, null_result_formatters)\u001b[0m\n\u001b[1;32m    353\u001b[0m \u001b[38;5;28;01mdef\u001b[39;00m\u001b[38;5;250m \u001b[39m\u001b[38;5;21mformatted_response\u001b[39m(\n\u001b[1;32m    354\u001b[0m     \u001b[38;5;28mself\u001b[39m,\n\u001b[1;32m    355\u001b[0m     response: RPCResponse,\n\u001b[0;32m   (...)\u001b[0m\n\u001b[1;32m    358\u001b[0m     null_result_formatters: Optional[Callable[\u001b[38;5;241m.\u001b[39m\u001b[38;5;241m.\u001b[39m\u001b[38;5;241m.\u001b[39m, Any]] \u001b[38;5;241m=\u001b[39m \u001b[38;5;28;01mNone\u001b[39;00m,\n\u001b[1;32m    359\u001b[0m ) \u001b[38;5;241m-\u001b[39m\u001b[38;5;241m>\u001b[39m Any:\n\u001b[1;32m    360\u001b[0m     is_subscription_response \u001b[38;5;241m=\u001b[39m (\n\u001b[1;32m    361\u001b[0m         response\u001b[38;5;241m.\u001b[39mget(\u001b[38;5;124m\"\u001b[39m\u001b[38;5;124mmethod\u001b[39m\u001b[38;5;124m\"\u001b[39m) \u001b[38;5;241m==\u001b[39m \u001b[38;5;124m\"\u001b[39m\u001b[38;5;124meth_subscription\u001b[39m\u001b[38;5;124m\"\u001b[39m\n\u001b[1;32m    362\u001b[0m         \u001b[38;5;129;01mand\u001b[39;00m response\u001b[38;5;241m.\u001b[39mget(\u001b[38;5;124m\"\u001b[39m\u001b[38;5;124mparams\u001b[39m\u001b[38;5;124m\"\u001b[39m) \u001b[38;5;129;01mis\u001b[39;00m \u001b[38;5;129;01mnot\u001b[39;00m \u001b[38;5;28;01mNone\u001b[39;00m\n\u001b[1;32m    363\u001b[0m         \u001b[38;5;129;01mand\u001b[39;00m response[\u001b[38;5;124m\"\u001b[39m\u001b[38;5;124mparams\u001b[39m\u001b[38;5;124m\"\u001b[39m]\u001b[38;5;241m.\u001b[39mget(\u001b[38;5;124m\"\u001b[39m\u001b[38;5;124msubscription\u001b[39m\u001b[38;5;124m\"\u001b[39m) \u001b[38;5;129;01mis\u001b[39;00m \u001b[38;5;129;01mnot\u001b[39;00m \u001b[38;5;28;01mNone\u001b[39;00m\n\u001b[1;32m    364\u001b[0m         \u001b[38;5;129;01mand\u001b[39;00m response[\u001b[38;5;124m\"\u001b[39m\u001b[38;5;124mparams\u001b[39m\u001b[38;5;124m\"\u001b[39m]\u001b[38;5;241m.\u001b[39mget(\u001b[38;5;124m\"\u001b[39m\u001b[38;5;124mresult\u001b[39m\u001b[38;5;124m\"\u001b[39m) \u001b[38;5;129;01mis\u001b[39;00m \u001b[38;5;129;01mnot\u001b[39;00m \u001b[38;5;28;01mNone\u001b[39;00m\n\u001b[1;32m    365\u001b[0m     )\n\u001b[0;32m--> 367\u001b[0m     \u001b[43m_validate_response\u001b[49m\u001b[43m(\u001b[49m\n\u001b[1;32m    368\u001b[0m \u001b[43m        \u001b[49m\u001b[43mresponse\u001b[49m\u001b[43m,\u001b[49m\n\u001b[1;32m    369\u001b[0m \u001b[43m        \u001b[49m\u001b[43merror_formatters\u001b[49m\u001b[43m,\u001b[49m\n\u001b[1;32m    370\u001b[0m \u001b[43m        \u001b[49m\u001b[43mis_subscription_response\u001b[49m\u001b[38;5;241;43m=\u001b[39;49m\u001b[43mis_subscription_response\u001b[49m\u001b[43m,\u001b[49m\n\u001b[1;32m    371\u001b[0m \u001b[43m        \u001b[49m\u001b[43mlogger\u001b[49m\u001b[38;5;241;43m=\u001b[39;49m\u001b[38;5;28;43mself\u001b[39;49m\u001b[38;5;241;43m.\u001b[39;49m\u001b[43mlogger\u001b[49m\u001b[43m,\u001b[49m\n\u001b[1;32m    372\u001b[0m \u001b[43m        \u001b[49m\u001b[43mparams\u001b[49m\u001b[38;5;241;43m=\u001b[39;49m\u001b[43mparams\u001b[49m\u001b[43m,\u001b[49m\n\u001b[1;32m    373\u001b[0m \u001b[43m    \u001b[49m\u001b[43m)\u001b[49m\n\u001b[1;32m    375\u001b[0m     \u001b[38;5;66;03m# format results\u001b[39;00m\n\u001b[1;32m    376\u001b[0m     \u001b[38;5;28;01mif\u001b[39;00m \u001b[38;5;124m\"\u001b[39m\u001b[38;5;124mresult\u001b[39m\u001b[38;5;124m\"\u001b[39m \u001b[38;5;129;01min\u001b[39;00m response:\n\u001b[1;32m    377\u001b[0m         \u001b[38;5;66;03m# Null values for result should apply null_result_formatters\u001b[39;00m\n\u001b[1;32m    378\u001b[0m         \u001b[38;5;66;03m# Skip when result not present in the response (fallback to False)\u001b[39;00m\n",
      "File \u001b[0;32m~/Documents/projects/blockhash-oracle/.venv/lib/python3.12/site-packages/web3/manager.py:257\u001b[0m, in \u001b[0;36m_validate_response\u001b[0;34m(response, error_formatters, is_subscription_response, logger, params)\u001b[0m\n\u001b[1;32m    253\u001b[0m \u001b[38;5;28;01mif\u001b[39;00m web3_rpc_error \u001b[38;5;129;01mis\u001b[39;00m \u001b[38;5;28;01mNone\u001b[39;00m:\n\u001b[1;32m    254\u001b[0m     \u001b[38;5;66;03m# if no condition was met above, raise a more generic `Web3RPCError`\u001b[39;00m\n\u001b[1;32m    255\u001b[0m     web3_rpc_error \u001b[38;5;241m=\u001b[39m Web3RPCError(\u001b[38;5;28mrepr\u001b[39m(error), rpc_response\u001b[38;5;241m=\u001b[39mresponse)\n\u001b[0;32m--> 257\u001b[0m response \u001b[38;5;241m=\u001b[39m \u001b[43mapply_error_formatters\u001b[49m\u001b[43m(\u001b[49m\u001b[43merror_formatters\u001b[49m\u001b[43m,\u001b[49m\u001b[43m \u001b[49m\u001b[43mresponse\u001b[49m\u001b[43m)\u001b[49m\n\u001b[1;32m    259\u001b[0m logger\u001b[38;5;241m.\u001b[39merror(web3_rpc_error\u001b[38;5;241m.\u001b[39muser_message)\n\u001b[1;32m    260\u001b[0m logger\u001b[38;5;241m.\u001b[39mdebug(\u001b[38;5;124mf\u001b[39m\u001b[38;5;124m\"\u001b[39m\u001b[38;5;124mRPC error response: \u001b[39m\u001b[38;5;132;01m{\u001b[39;00mresponse\u001b[38;5;132;01m}\u001b[39;00m\u001b[38;5;124m\"\u001b[39m)\n",
      "File \u001b[0;32m~/Documents/projects/blockhash-oracle/.venv/lib/python3.12/site-packages/web3/manager.py:122\u001b[0m, in \u001b[0;36mapply_error_formatters\u001b[0;34m(error_formatters, response)\u001b[0m\n\u001b[1;32m    117\u001b[0m \u001b[38;5;28;01mdef\u001b[39;00m\u001b[38;5;250m \u001b[39m\u001b[38;5;21mapply_error_formatters\u001b[39m(\n\u001b[1;32m    118\u001b[0m     error_formatters: Callable[\u001b[38;5;241m.\u001b[39m\u001b[38;5;241m.\u001b[39m\u001b[38;5;241m.\u001b[39m, Any],\n\u001b[1;32m    119\u001b[0m     response: RPCResponse,\n\u001b[1;32m    120\u001b[0m ) \u001b[38;5;241m-\u001b[39m\u001b[38;5;241m>\u001b[39m RPCResponse:\n\u001b[1;32m    121\u001b[0m     \u001b[38;5;28;01mif\u001b[39;00m error_formatters:\n\u001b[0;32m--> 122\u001b[0m         formatted_resp \u001b[38;5;241m=\u001b[39m \u001b[43mpipe\u001b[49m\u001b[43m(\u001b[49m\u001b[43mresponse\u001b[49m\u001b[43m,\u001b[49m\u001b[43m \u001b[49m\u001b[43merror_formatters\u001b[49m\u001b[43m)\u001b[49m\n\u001b[1;32m    123\u001b[0m         \u001b[38;5;28;01mreturn\u001b[39;00m formatted_resp\n\u001b[1;32m    124\u001b[0m     \u001b[38;5;28;01melse\u001b[39;00m:\n",
      "File \u001b[0;32m~/Documents/projects/blockhash-oracle/.venv/lib/python3.12/site-packages/cytoolz/functoolz.pyx:685\u001b[0m, in \u001b[0;36mcytoolz.functoolz.pipe\u001b[0;34m()\u001b[0m\n",
      "File \u001b[0;32m~/Documents/projects/blockhash-oracle/.venv/lib/python3.12/site-packages/cytoolz/functoolz.pyx:660\u001b[0m, in \u001b[0;36mcytoolz.functoolz.c_pipe\u001b[0;34m()\u001b[0m\n",
      "File \u001b[0;32m~/Documents/projects/blockhash-oracle/.venv/lib/python3.12/site-packages/web3/_utils/error_formatters_utils.py:160\u001b[0m, in \u001b[0;36mraise_contract_logic_error_on_revert\u001b[0;34m(response)\u001b[0m\n\u001b[1;32m    158\u001b[0m     \u001b[38;5;28;01mraise\u001b[39;00m ContractLogicError(\u001b[38;5;124mf\u001b[39m\u001b[38;5;124m\"\u001b[39m\u001b[38;5;124mexecution reverted: \u001b[39m\u001b[38;5;132;01m{\u001b[39;00mmessage\u001b[38;5;132;01m}\u001b[39;00m\u001b[38;5;124m\"\u001b[39m, data\u001b[38;5;241m=\u001b[39mdata)\n\u001b[1;32m    159\u001b[0m \u001b[38;5;28;01melif\u001b[39;00m \u001b[38;5;28misinstance\u001b[39m(data, \u001b[38;5;28mstr\u001b[39m):\n\u001b[0;32m--> 160\u001b[0m     \u001b[43m_raise_contract_error\u001b[49m\u001b[43m(\u001b[49m\u001b[43mdata\u001b[49m\u001b[43m)\u001b[49m\n\u001b[1;32m    162\u001b[0m \u001b[38;5;28;01mif\u001b[39;00m message_present:\n\u001b[1;32m    163\u001b[0m     \u001b[38;5;66;03m# Geth Revert with error message and code 3 case:\u001b[39;00m\n\u001b[1;32m    164\u001b[0m     \u001b[38;5;28;01mif\u001b[39;00m error\u001b[38;5;241m.\u001b[39mget(\u001b[38;5;124m\"\u001b[39m\u001b[38;5;124mcode\u001b[39m\u001b[38;5;124m\"\u001b[39m) \u001b[38;5;241m==\u001b[39m \u001b[38;5;241m3\u001b[39m:\n",
      "File \u001b[0;32m~/Documents/projects/blockhash-oracle/.venv/lib/python3.12/site-packages/web3/_utils/error_formatters_utils.py:132\u001b[0m, in \u001b[0;36m_raise_contract_error\u001b[0;34m(response_error_data)\u001b[0m\n\u001b[1;32m    122\u001b[0m \u001b[38;5;66;03m# Solidity 0.8.4 introduced custom error messages that allow args to\u001b[39;00m\n\u001b[1;32m    123\u001b[0m \u001b[38;5;66;03m# be passed in (or not). See:\u001b[39;00m\n\u001b[1;32m    124\u001b[0m \u001b[38;5;66;03m# https://blog.soliditylang.org/2021/04/21/custom-errors/\u001b[39;00m\n\u001b[1;32m    125\u001b[0m \u001b[38;5;28;01melif\u001b[39;00m (\n\u001b[1;32m    126\u001b[0m     \u001b[38;5;28mlen\u001b[39m(response_error_data) \u001b[38;5;241m>\u001b[39m\u001b[38;5;241m=\u001b[39m \u001b[38;5;241m10\u001b[39m\n\u001b[1;32m    127\u001b[0m     \u001b[38;5;129;01mand\u001b[39;00m \u001b[38;5;129;01mnot\u001b[39;00m response_error_data[:\u001b[38;5;241m10\u001b[39m] \u001b[38;5;241m==\u001b[39m SOLIDITY_ERROR_FUNC_SELECTOR\n\u001b[0;32m   (...)\u001b[0m\n\u001b[1;32m    130\u001b[0m     \u001b[38;5;66;03m# compatibility and so that data can be accessed via 'data' attribute\u001b[39;00m\n\u001b[1;32m    131\u001b[0m     \u001b[38;5;66;03m# on the ContractCustomError exception\u001b[39;00m\n\u001b[0;32m--> 132\u001b[0m     \u001b[38;5;28;01mraise\u001b[39;00m ContractCustomError(response_error_data, data\u001b[38;5;241m=\u001b[39mresponse_error_data)\n",
      "\u001b[0;31mContractCustomError\u001b[0m: ('0xa4ff2ec3', '0xa4ff2ec3')"
     ]
    }
   ],
   "source": [
    "from lzreadabi import lzreadlib_abi\n",
    "import json\n",
    "\n",
    "for key in state_dict.keys():\n",
    "    if key == main_chain or state_dict[key]['read_lib'] == 'unavailable':\n",
    "        continue\n",
    "    with boa.swap_env(state_dict[key]['boa']):\n",
    "        lzreadlib = state_dict[key]['w3'].eth.contract(address=state_dict[key]['read_lib'], abi=lzreadlib_abi)\n",
    "        print(f\"Read lib type: {lzreadlib.functions.messageLibType().call()}\")\n",
    "        print(f\"Read lib version: {lzreadlib.functions.version().call()}\")\n",
    "\n",
    "        eid_check = [4294967295, 4294967294]\n",
    "        supported_eid = None\n",
    "        for eid in eid_check:\n",
    "            support = lzreadlib.functions.isSupportedEid(eid).call()\n",
    "            print(f\"Supports {eid}: {support}\")\n",
    "            if support and not supported_eid:\n",
    "                supported_eid = eid\n",
    "        ## read lib\n",
    "        read_channel = state_dict[key]['messenger_w3'].functions.LZ_READ_CHANNEL().call()\n",
    "        if supported_eid and read_channel != supported_eid:\n",
    "            print(f\"Setting read channel to {supported_eid}\")\n",
    "            func = state_dict[key]['messenger_w3'].functions.set_lz_read_channel(supported_eid)\n",
    "            tx_hash = send_tx(state_dict[key]['w3'], func, account)\n",
    "            print(f\"Set read channel: {tx_hash.hex()}\")\n",
    "\n",
    "        # read direction\n",
    "        read_channel = state_dict[key]['messenger_w3'].functions.LZ_READ_CHANNEL().call()\n",
    "        print(f\"Read Channel: {read_channel}\")\n",
    "        func = state_dict[key]['messenger_w3'].functions.set_lz_send_lib(read_channel, state_dict[key]['read_lib'])\n",
    "        tx_hash3 = send_tx(state_dict[key]['w3'], func, account)\n",
    "        print(f\"Added read lib: {tx_hash3.hex()}\")\n",
    "\n",
    "        # # receive direction\n",
    "        func = state_dict[key]['messenger_w3'].functions.set_lz_receive_lib(read_channel, state_dict[key]['read_lib'])\n",
    "        tx_hash4 = send_tx(state_dict[key]['w3'], func, account)\n",
    "        print(f\"Added receive lib: {tx_hash4.hex()}\")"
   ]
  },
  {
   "cell_type": "markdown",
   "id": "13",
   "metadata": {},
   "source": [
    "## Set up DVNs"
   ]
  },
  {
   "cell_type": "code",
   "execution_count": null,
   "id": "14",
   "metadata": {},
   "outputs": [],
   "source": [
    "# first set the delegate\n",
    "# func = contract_w3.functions.set_lz_delegate(account.address)\n",
    "# tx_hash = send_tx(func, account)\n",
    "# logging.info(f\"Added self as delegate: {tx_hash.hex()}\")\n",
    "def checksum(address):\n",
    "    return Web3.to_checksum_address(address)\n",
    "\n",
    "\n",
    "CONFIG_TYPE_READ = 1\n",
    "CONFIG_TYPE_ULN = 2\n",
    "# list all dvns\n",
    "print(\"Listing all dvns\")\n",
    "for dvn in dvns_all:\n",
    "    print(dvn)\n",
    "\n",
    "oapp = contract.address\n",
    "confirmations = 1\n",
    "required_dvns = [dvn[\"address\"] for dvn in dvns_all if dvn[\"id\"] == \"layerzero-labs\"]\n",
    "required_dvns = required_dvns[0:1]  # of all eid dvns we pick first one with layerzero id\n",
    "optional_dvns = [dvn[\"address\"] for dvn in dvns_all if dvn[\"address\"] not in required_dvns]\n",
    "# all other dvs are optional, with a threshold of 2 (or less is there is not enough)\n",
    "optional_dvn_threshold = min(2, len(optional_dvns))  # 2 or 1\n",
    "\n",
    "# sort dvns alphabetically (important, otherwise lz will fail!)\n",
    "required_dvns.sort()\n",
    "optional_dvns.sort()\n",
    "required_dvns = [checksum(dvn) for dvn in required_dvns]\n",
    "optional_dvns = [checksum(dvn) for dvn in optional_dvns]\n",
    "\n",
    "print(\"DVNs for send/receive:\")\n",
    "print(f\"Required: {required_dvns}\")\n",
    "print(f\"Optional: {optional_dvns}\")\n",
    "print(f\"Optional threshold: {optional_dvn_threshold}\")\n",
    "for lib in [SEND_LIB, RECEIVE_LIB]:\n",
    "    func = contract_w3.functions.set_lz_uln_config(\n",
    "        LZ_EID,\n",
    "        oapp,\n",
    "        lib,\n",
    "        CONFIG_TYPE_ULN,\n",
    "        confirmations,\n",
    "        required_dvns,\n",
    "        optional_dvns,\n",
    "        optional_dvn_threshold,\n",
    "    )\n",
    "    tx_hash = send_tx(func, account)\n",
    "    print(f\"Added ULN config: {tx_hash.hex()}\")\n",
    "    # break\n",
    "\n",
    "required_dvns = [\n",
    "    dvn[\"address\"]\n",
    "    for dvn in dvns_all\n",
    "    if dvn[\"id\"] == \"layerzero-labs\" and dvn.get(\"lzReadCompatible\", False)\n",
    "]\n",
    "optional_dvns = [\n",
    "    dvn[\"address\"]\n",
    "    for dvn in dvns_all\n",
    "    if dvn[\"address\"] not in required_dvns and dvn.get(\"lzReadCompatible\", False)\n",
    "]\n",
    "optional_dvn_threshold = min(2, len(optional_dvns))  # 2 or 1 or 0\n",
    "print(\"DVNs for read:\")\n",
    "print(f\"Required: {required_dvns}\")\n",
    "print(f\"Optional: {optional_dvns}\")\n",
    "print(f\"Optional threshold: {optional_dvn_threshold}\")\n",
    "required_dvns.sort()\n",
    "optional_dvns.sort()\n",
    "required_dvns = [checksum(dvn) for dvn in required_dvns]\n",
    "optional_dvns = [checksum(dvn) for dvn in optional_dvns]\n",
    "# required_dvns = []\n",
    "for lib in [READ_LIB]:\n",
    "    func = contract_w3.functions.set_lz_uln_config(\n",
    "        read_channel,\n",
    "        oapp,\n",
    "        lib,\n",
    "        CONFIG_TYPE_READ,\n",
    "        confirmations,\n",
    "        required_dvns,\n",
    "        optional_dvns,\n",
    "        optional_dvn_threshold,\n",
    "    )\n",
    "    tx_hash = send_tx(func, account)\n",
    "    print(f\"Added ULN-Read config: {tx_hash.hex()}\")"
   ]
  },
  {
   "cell_type": "markdown",
   "id": "15",
   "metadata": {},
   "source": [
    "## 1. LZ Send & Receive"
   ]
  },
  {
   "cell_type": "code",
   "execution_count": null,
   "id": "16",
   "metadata": {},
   "outputs": [],
   "source": [
    "# add self as peer\n",
    "\n",
    "func = contract_w3.functions.set_peer(LZ_EID, CONTRACT_ADDRESS)\n",
    "tx_hash = send_tx(func, account)\n",
    "logging.info(f\"Added self as peer tx: {tx_hash.hex()}\")"
   ]
  },
  {
   "cell_type": "code",
   "execution_count": null,
   "id": "17",
   "metadata": {},
   "outputs": [],
   "source": [
    "gas_limit = 500_000\n",
    "value = int(0.001 * 10**18)\n",
    "msg = \"170475436437825620930817601234267694881687829390282260281137596999800372275961\"\n",
    "\n",
    "fee = contract_w3.functions.quote_message_fee(\n",
    "    LZ_EID, CONTRACT_ADDRESS, msg, _gas_limit=gas_limit, _value=value\n",
    ").call()\n",
    "logging.info(f\"Fee: {fee}\")\n",
    "\n",
    "func = contract_w3.functions.send_message(\n",
    "    _dst_eid=LZ_EID, _receiver=CONTRACT_ADDRESS, _message=msg, _gas_limit=gas_limit, _value=value\n",
    ")\n",
    "tx_hash = send_tx(func, account, 3 * fee)\n",
    "logging.info(f\"Tx: {tx_hash.hex()}\")\n",
    "# after we sent the message we can check it on testnet.layerzeroscan.com (use address or txid)\n",
    "# shortly after, it should be pinged back (we send to ourselves, and event be fired)"
   ]
  },
  {
   "cell_type": "markdown",
   "id": "18",
   "metadata": {},
   "source": [
    "## 2. LzRead"
   ]
  },
  {
   "cell_type": "code",
   "execution_count": null,
   "id": "19",
   "metadata": {},
   "outputs": [],
   "source": [
    "# set self as read peer\n",
    "# LZ_READ_CHANNEL = 4294967294\n",
    "LZ_READ_CHANNEL = contract_w3.functions.LZ_READ_CHANNEL().call()\n",
    "func = contract_w3.functions.set_peer(LZ_READ_CHANNEL, CONTRACT_ADDRESS)\n",
    "tx_hash = send_tx(func, account)\n",
    "logging.info(f\"Set peer tx: {tx_hash.hex()}\")"
   ]
  },
  {
   "cell_type": "code",
   "execution_count": null,
   "id": "20",
   "metadata": {},
   "outputs": [],
   "source": [
    "# prepare reading calldata\n",
    "from vyper.utils import method_id\n",
    "\n",
    "method_str = \"dummy_endpoint(uint256)\"\n",
    "num = 34710\n",
    "calldata = method_id(method_str) + boa.util.abi.abi_encode(\"(uint256)\", (num,))\n",
    "\n",
    "# read the contract itself\n",
    "res = contract_w3.functions.dummy_endpoint(num).call()\n",
    "\n",
    "logging.info(f\"Read: {res}\")\n",
    "value = int(0.001 * 10**18)\n",
    "# now quote lzread fee\n",
    "fee = contract_w3.functions.quote_read_fee(\n",
    "    LZ_EID, CONTRACT_ADDRESS, calldata, _gas_limit=gas_limit, _value=value\n",
    ").call()\n",
    "logging.info(f\"Fee: {fee}\")\n",
    "\n",
    "# now request read\n",
    "func = contract_w3.functions.request_read(\n",
    "    LZ_EID, CONTRACT_ADDRESS, calldata, _gas_limit=gas_limit, _value=value\n",
    ")\n",
    "tx_hash = send_tx(func, account, 3 * fee)\n",
    "logging.info(f\"Tx: {tx_hash.hex()}\")"
   ]
  },
  {
   "cell_type": "code",
   "execution_count": null,
   "id": "21",
   "metadata": {},
   "outputs": [],
   "source": [
    "# test calldata\n",
    "import requests\n",
    "\n",
    "print(calldata.hex())\n",
    "\n",
    "rpc_endpoint = \"https://sepolia.base.org\"\n",
    "# perform eth_call request to contract using calldata\n",
    "r = requests.post(\n",
    "    rpc_endpoint,\n",
    "    json={\n",
    "        \"jsonrpc\": \"2.0\",\n",
    "        \"method\": \"eth_call\",\n",
    "        \"params\": [{\"to\": CONTRACT_ADDRESS, \"data\": \"0x\" + calldata.hex()}, \"latest\"],\n",
    "        \"id\": 1,\n",
    "    },\n",
    ")\n",
    "response = r.json()[\"result\"]\n",
    "# print(r.json()['result'])\n",
    "print(response)\n",
    "contract_code = \"\"\"\n",
    "@external\n",
    "@view\n",
    "def message_as_string(_message: Bytes[128]) -> String[128]:\n",
    "    message: String[128] = convert(_message, String[128])\n",
    "    return message\n",
    "\"\"\"\n",
    "with boa.swap_env(boa.Env()):\n",
    "    tmp_contract = boa.loads(contract_code)\n",
    "\n",
    "    res = tmp_contract.message_as_string(bytes.fromhex(response[2:]))\n",
    "    print(res)"
   ]
  },
  {
   "cell_type": "code",
   "execution_count": null,
   "id": "22",
   "metadata": {},
   "outputs": [],
   "source": [
    "contract_code = \"\"\"\n",
    "@external\n",
    "@view\n",
    "def foo():\n",
    "    val_1: uint128 = 123\n",
    "    val_2: uint128 = 0\n",
    "    val1_b16: bytes16 = convert(1, bytes16)\n",
    "    val2_b16: bytes16 = convert(2, bytes16)\n",
    "    # val_b32: bytes32 = convert(val_uint, bytes32)\n",
    "    # a16: Bytes[16] = empty(Bytes[16])\n",
    "    # a32: Bytes[32] = empty(Bytes[32])\n",
    "    val_B32: Bytes[32] = concat(val1_b16, empty(bytes16))\n",
    "    # # a1: bytes16 = convert(1, bytes16)\n",
    "    print(val_B32)\n",
    "\"\"\"\n",
    "with boa.swap_env(boa.Env()):\n",
    "    tmp_contract = boa.loads(contract_code)\n",
    "\n",
    "    res = tmp_contract.foo()\n",
    "    # print(res)"
   ]
  },
  {
   "cell_type": "code",
   "execution_count": null,
   "id": "23",
   "metadata": {},
   "outputs": [],
   "source": []
  }
 ],
 "metadata": {
  "kernelspec": {
   "display_name": ".venv",
   "language": "python",
   "name": "python3"
  },
  "language_info": {
   "codemirror_mode": {
    "name": "ipython",
    "version": 3
   },
   "file_extension": ".py",
   "mimetype": "text/x-python",
   "name": "python",
   "nbconvert_exporter": "python",
   "pygments_lexer": "ipython3",
   "version": "3.12.6"
  }
 },
 "nbformat": 4,
 "nbformat_minor": 5
}
